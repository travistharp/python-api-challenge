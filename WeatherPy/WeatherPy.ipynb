{
 "cells": [
  {
   "cell_type": "markdown",
   "metadata": {},
   "source": [
    "# WeatherPy\n",
    "----\n",
    "\n",
    "#### Note\n",
    "* Instructions have been included for each segment. You do not have to follow them exactly, but they are included to help you think through the steps."
   ]
  },
  {
   "cell_type": "code",
   "execution_count": 1,
   "metadata": {
    "scrolled": true
   },
   "outputs": [],
   "source": [
    "# Dependencies and Setup\n",
    "import matplotlib.pyplot as plt\n",
    "import pandas as pd\n",
    "import numpy as np\n",
    "import requests\n",
    "import time\n",
    "from scipy.stats import linregress\n",
    "\n",
    "# Import API key\n",
    "from api_keys import weather_api_key\n",
    "\n",
    "# Incorporated citipy to determine city based on latitude and longitude\n",
    "from citipy import citipy\n",
    "\n",
    "# Output File (CSV)\n",
    "output_data_file = \"output_data/cities.csv\"\n",
    "\n",
    "# Range of latitudes and longitudes\n",
    "lat_range = (-90, 90)\n",
    "lng_range = (-180, 180)"
   ]
  },
  {
   "cell_type": "markdown",
   "metadata": {},
   "source": [
    "## Generate Cities List"
   ]
  },
  {
   "cell_type": "code",
   "execution_count": 2,
   "metadata": {},
   "outputs": [
    {
     "name": "stdout",
     "output_type": "stream",
     "text": [
      "84\n"
     ]
    }
   ],
   "source": [
    "# List for holding lat_lngs and cities\n",
    "lat_lngs = []\n",
    "cities = []\n",
    "\n",
    "# Create a set of random lat and lng combinations\n",
    "lats = np.random.uniform(low=-90.000, high=90.000, size=100)\n",
    "lngs = np.random.uniform(low=-180.000, high=180.000, size=100)\n",
    "lat_lngs = zip(lats, lngs)\n",
    "\n",
    "# Identify nearest city for each lat, lng combination\n",
    "for lat_lng in lat_lngs:\n",
    "    city = citipy.nearest_city(lat_lng[0], lat_lng[1]).city_name\n",
    "    \n",
    "    # If the city is unique, then add it to a our cities list\n",
    "    if city not in cities:\n",
    "        cities.append(city)\n",
    "\n",
    "#capitalize the cities\n",
    "cities = [c.title() for c in cities]\n",
    "        \n",
    "# Print the city count to confirm sufficient count\n",
    "\n",
    "print (len(cities))\n"
   ]
  },
  {
   "cell_type": "code",
   "execution_count": 3,
   "metadata": {},
   "outputs": [
    {
     "name": "stdout",
     "output_type": "stream",
     "text": [
      "['Tsihombe', 'Hobart', 'Taolanaro', 'Narsaq', 'Torbay', 'Samusu', 'New Norfolk', 'Rikitea', 'Mar Del Plata', 'Cabo San Lucas', 'Ambilobe', 'Busselton', 'Caravelas', 'Placido De Castro', 'Albany', 'Abu Zabad', 'Sept-Iles', 'Ponta Do Sol', 'Marrakesh', 'Ushuaia', 'Jamestown', 'Carutapera', 'San Andres', 'Hermanus', 'Vaitupu', 'Lompoc', 'Basco', 'Linqiong', 'Qaanaaq', 'Mataura', 'Vaini', 'Yellowknife', 'Guerrero Negro', 'Mayo', 'Kavieng', 'Umzimvubu', 'Barrow', 'Saldanha', 'San Patricio', 'Rongai', 'Atuona', 'Pemberton', 'Cape Town', 'Tiksi', 'Shetpe', 'Georgetown', 'Ribeira Grande', 'Hilo', 'Punta Arenas', 'Palmer', 'Hithadhoo', 'Nuuk', 'Faanui', 'Belushya Guba', 'Te Anau', 'Hovd', 'East London', 'Hirara', 'Chokurdakh', 'Victoria', 'Namibe', 'Varhaug', 'Luderitz', 'Vila Franca Do Campo', 'Rocha', 'Cidreira', 'Helong', 'Petropavlovsk-Kamchatskiy', 'Codrington', 'Dawson Creek', 'Balkhash', 'Dolbeau', 'Port Lincoln', 'Luanda', 'Kollumerland', 'Hami', 'Port Alfred', 'San Quintin', 'Saint George', 'Whitehorse', 'Katsuura', 'Ordzhonikidze', 'Cabra', 'Upernavik']\n"
     ]
    }
   ],
   "source": [
    "#display the list of cities\n",
    "print (cities)"
   ]
  },
  {
   "cell_type": "markdown",
   "metadata": {},
   "source": [
    "### Perform API Calls\n",
    "* Perform a weather check on each city using a series of successive API calls.\n",
    "* Include a print log of each city as it'sbeing processed (with the city number and city name).\n"
   ]
  },
  {
   "cell_type": "code",
   "execution_count": 4,
   "metadata": {},
   "outputs": [
    {
     "name": "stdout",
     "output_type": "stream",
     "text": [
      "Tsihombe Data Missing!!!............1 of 84\n",
      "Hobart Complete - 2 of 84\n",
      "Taolanaro Data Missing!!!............3 of 84\n",
      "Narsaq Complete - 4 of 84\n",
      "Torbay Complete - 5 of 84\n",
      "Samusu Data Missing!!!............6 of 84\n",
      "New Norfolk Complete - 7 of 84\n",
      "Rikitea Complete - 8 of 84\n",
      "Mar Del Plata Complete - 9 of 84\n",
      "Cabo San Lucas Complete - 10 of 84\n",
      "Ambilobe Complete - 11 of 84\n",
      "Busselton Complete - 12 of 84\n",
      "Caravelas Complete - 13 of 84\n",
      "Placido De Castro Complete - 14 of 84\n",
      "Albany Complete - 15 of 84\n",
      "Abu Zabad Complete - 16 of 84\n",
      "Sept-Iles Complete - 17 of 84\n",
      "Ponta Do Sol Complete - 18 of 84\n",
      "Marrakesh Complete - 19 of 84\n",
      "Ushuaia Complete - 20 of 84\n",
      "Jamestown Complete - 21 of 84\n",
      "Carutapera Complete - 22 of 84\n",
      "San Andres Complete - 23 of 84\n",
      "Hermanus Complete - 24 of 84\n",
      "Vaitupu Data Missing!!!............25 of 84\n",
      "Lompoc Complete - 26 of 84\n",
      "Basco Complete - 27 of 84\n",
      "Linqiong Complete - 28 of 84\n",
      "Qaanaaq Complete - 29 of 84\n",
      "Mataura Complete - 30 of 84\n",
      "Vaini Complete - 31 of 84\n",
      "Yellowknife Complete - 32 of 84\n",
      "Guerrero Negro Complete - 33 of 84\n",
      "Mayo Complete - 34 of 84\n",
      "Kavieng Complete - 35 of 84\n",
      "Umzimvubu Data Missing!!!............36 of 84\n",
      "Barrow Complete - 37 of 84\n",
      "Saldanha Complete - 38 of 84\n",
      "San Patricio Complete - 39 of 84\n",
      "Rongai Complete - 40 of 84\n",
      "Atuona Complete - 41 of 84\n",
      "Pemberton Complete - 42 of 84\n",
      "Cape Town Complete - 43 of 84\n",
      "Tiksi Complete - 44 of 84\n",
      "Shetpe Complete - 45 of 84\n",
      "Georgetown Complete - 46 of 84\n",
      "Ribeira Grande Complete - 47 of 84\n",
      "Hilo Complete - 48 of 84\n",
      "Punta Arenas Complete - 49 of 84\n",
      "Palmer Complete - 50 of 84\n",
      "Hithadhoo Complete - 51 of 84\n",
      "Nuuk Complete - 52 of 84\n",
      "Faanui Complete - 53 of 84\n",
      "Belushya Guba Data Missing!!!............54 of 84\n",
      "Te Anau Complete - 55 of 84\n",
      "Hovd Complete - 56 of 84\n",
      "East London Complete - 57 of 84\n",
      "Hirara Complete - 58 of 84\n",
      "Chokurdakh Complete - 59 of 84\n",
      "Victoria Complete - 60 of 84\n",
      "Namibe Complete - 61 of 84\n",
      "Varhaug Complete - 62 of 84\n",
      "Luderitz Complete - 63 of 84\n",
      "Vila Franca Do Campo Complete - 64 of 84\n",
      "Rocha Complete - 65 of 84\n",
      "Cidreira Complete - 66 of 84\n",
      "Helong Complete - 67 of 84\n",
      "Petropavlovsk-Kamchatskiy Complete - 68 of 84\n",
      "Codrington Complete - 69 of 84\n",
      "Dawson Creek Complete - 70 of 84\n",
      "Balkhash Complete - 71 of 84\n",
      "Dolbeau Data Missing!!!............72 of 84\n",
      "Port Lincoln Complete - 73 of 84\n",
      "Luanda Complete - 74 of 84\n",
      "Kollumerland Data Missing!!!............75 of 84\n",
      "Hami Complete - 76 of 84\n",
      "Port Alfred Complete - 77 of 84\n",
      "San Quintin Complete - 78 of 84\n",
      "Saint George Complete - 79 of 84\n",
      "Whitehorse Complete - 80 of 84\n",
      "Katsuura Complete - 81 of 84\n",
      "Ordzhonikidze Complete - 82 of 84\n",
      "Cabra Complete - 83 of 84\n",
      "Upernavik Complete - 84 of 84\n",
      "Complete\n"
     ]
    }
   ],
   "source": [
    "# url information\n",
    "url = \"http://api.openweathermap.org/data/2.5/weather?\"\n",
    "units = \"imperial\"\n",
    "\n",
    "# query url\n",
    "query_url = f\"{url}appid={weather_api_key}&units={units}&q=\"\n",
    "\n",
    "#create lists for the desired information\n",
    "lat = []\n",
    "lon = []\n",
    "temp = []\n",
    "humidity = []\n",
    "wind = []\n",
    "cloud = []\n",
    "i=0\n",
    "#request information from the api\n",
    "for city in cities:\n",
    "    response = requests.get(query_url + city).json()\n",
    "    i=i+1\n",
    "    try:\n",
    "        lat.append(response['coord']['lat'])\n",
    "        lon.append(response['coord']['lon'])\n",
    "        temp.append(response['main']['temp'])\n",
    "        humidity.append(response['main']['humidity'])\n",
    "        wind.append(response['wind']['speed'])\n",
    "        cloud.append(response['clouds']['all'])\n",
    "        print(f\"{city} Complete - {i} of {len(cities)}\")\n",
    "        time.sleep(1)\n",
    "        \n",
    "    except (KeyError, IndexError):\n",
    "        print(f\"{city} Data Missing!!!............{i} of {len(cities)}\")\n",
    "        lat.append(None)\n",
    "        lon.append(None)\n",
    "        temp.append(None)\n",
    "        humidity.append(None)\n",
    "        wind.append(None)\n",
    "        cloud.append(None)\n",
    "\n",
    "        \n",
    "#track the number of calls and responses        \n",
    "    if i == len(cities):\n",
    "        print(f\"Complete\") \n",
    "    "
   ]
  },
  {
   "cell_type": "code",
   "execution_count": 8,
   "metadata": {},
   "outputs": [],
   "source": [
    "#create a dictionary from all the gathered lists\n",
    "city_dict = {\n",
    "    \"City\": cities,\n",
    "    \"Lat\": lat,\n",
    "    \"Lon\": lon,\n",
    "    \"Temp\": temp,\n",
    "    \"Humidity\": humidity,\n",
    "    \"Wind_Speed\": wind,\n",
    "    \"Cloudiness\": cloud\n",
    "}"
   ]
  },
  {
   "cell_type": "markdown",
   "metadata": {},
   "source": [
    "### Convert Raw Data to DataFrame\n",
    "* Export the city data into a .csv.\n",
    "* Display the DataFrame"
   ]
  },
  {
   "cell_type": "code",
   "execution_count": 9,
   "metadata": {},
   "outputs": [
    {
     "data": {
      "text/html": [
       "<div>\n",
       "<style scoped>\n",
       "    .dataframe tbody tr th:only-of-type {\n",
       "        vertical-align: middle;\n",
       "    }\n",
       "\n",
       "    .dataframe tbody tr th {\n",
       "        vertical-align: top;\n",
       "    }\n",
       "\n",
       "    .dataframe thead th {\n",
       "        text-align: right;\n",
       "    }\n",
       "</style>\n",
       "<table border=\"1\" class=\"dataframe\">\n",
       "  <thead>\n",
       "    <tr style=\"text-align: right;\">\n",
       "      <th></th>\n",
       "      <th>City</th>\n",
       "      <th>Lat</th>\n",
       "      <th>Lon</th>\n",
       "      <th>Temp</th>\n",
       "      <th>Humidity</th>\n",
       "      <th>Wind_Speed</th>\n",
       "      <th>Cloudiness</th>\n",
       "    </tr>\n",
       "  </thead>\n",
       "  <tbody>\n",
       "    <tr>\n",
       "      <td>0</td>\n",
       "      <td>Tsihombe</td>\n",
       "      <td>NaN</td>\n",
       "      <td>NaN</td>\n",
       "      <td>NaN</td>\n",
       "      <td>NaN</td>\n",
       "      <td>NaN</td>\n",
       "      <td>NaN</td>\n",
       "    </tr>\n",
       "    <tr>\n",
       "      <td>1</td>\n",
       "      <td>Hobart</td>\n",
       "      <td>-42.88</td>\n",
       "      <td>147.33</td>\n",
       "      <td>64.92</td>\n",
       "      <td>42.0</td>\n",
       "      <td>12.75</td>\n",
       "      <td>40.0</td>\n",
       "    </tr>\n",
       "    <tr>\n",
       "      <td>2</td>\n",
       "      <td>Taolanaro</td>\n",
       "      <td>NaN</td>\n",
       "      <td>NaN</td>\n",
       "      <td>NaN</td>\n",
       "      <td>NaN</td>\n",
       "      <td>NaN</td>\n",
       "      <td>NaN</td>\n",
       "    </tr>\n",
       "    <tr>\n",
       "      <td>3</td>\n",
       "      <td>Narsaq</td>\n",
       "      <td>60.92</td>\n",
       "      <td>-46.05</td>\n",
       "      <td>-0.40</td>\n",
       "      <td>44.0</td>\n",
       "      <td>10.29</td>\n",
       "      <td>0.0</td>\n",
       "    </tr>\n",
       "    <tr>\n",
       "      <td>4</td>\n",
       "      <td>Torbay</td>\n",
       "      <td>47.67</td>\n",
       "      <td>-52.73</td>\n",
       "      <td>19.49</td>\n",
       "      <td>79.0</td>\n",
       "      <td>11.41</td>\n",
       "      <td>75.0</td>\n",
       "    </tr>\n",
       "    <tr>\n",
       "      <td>5</td>\n",
       "      <td>Samusu</td>\n",
       "      <td>NaN</td>\n",
       "      <td>NaN</td>\n",
       "      <td>NaN</td>\n",
       "      <td>NaN</td>\n",
       "      <td>NaN</td>\n",
       "      <td>NaN</td>\n",
       "    </tr>\n",
       "    <tr>\n",
       "      <td>6</td>\n",
       "      <td>New Norfolk</td>\n",
       "      <td>-42.78</td>\n",
       "      <td>147.06</td>\n",
       "      <td>64.76</td>\n",
       "      <td>42.0</td>\n",
       "      <td>12.75</td>\n",
       "      <td>40.0</td>\n",
       "    </tr>\n",
       "    <tr>\n",
       "      <td>7</td>\n",
       "      <td>Rikitea</td>\n",
       "      <td>-23.12</td>\n",
       "      <td>-134.97</td>\n",
       "      <td>80.19</td>\n",
       "      <td>81.0</td>\n",
       "      <td>24.09</td>\n",
       "      <td>100.0</td>\n",
       "    </tr>\n",
       "    <tr>\n",
       "      <td>8</td>\n",
       "      <td>Mar Del Plata</td>\n",
       "      <td>-38.00</td>\n",
       "      <td>-57.56</td>\n",
       "      <td>72.66</td>\n",
       "      <td>83.0</td>\n",
       "      <td>6.93</td>\n",
       "      <td>37.0</td>\n",
       "    </tr>\n",
       "    <tr>\n",
       "      <td>9</td>\n",
       "      <td>Cabo San Lucas</td>\n",
       "      <td>22.89</td>\n",
       "      <td>-109.91</td>\n",
       "      <td>66.83</td>\n",
       "      <td>77.0</td>\n",
       "      <td>13.87</td>\n",
       "      <td>40.0</td>\n",
       "    </tr>\n",
       "    <tr>\n",
       "      <td>10</td>\n",
       "      <td>Ambilobe</td>\n",
       "      <td>-13.20</td>\n",
       "      <td>49.05</td>\n",
       "      <td>74.03</td>\n",
       "      <td>93.0</td>\n",
       "      <td>4.09</td>\n",
       "      <td>62.0</td>\n",
       "    </tr>\n",
       "    <tr>\n",
       "      <td>11</td>\n",
       "      <td>Busselton</td>\n",
       "      <td>-33.65</td>\n",
       "      <td>115.33</td>\n",
       "      <td>82.00</td>\n",
       "      <td>28.0</td>\n",
       "      <td>4.00</td>\n",
       "      <td>0.0</td>\n",
       "    </tr>\n",
       "    <tr>\n",
       "      <td>12</td>\n",
       "      <td>Caravelas</td>\n",
       "      <td>-17.71</td>\n",
       "      <td>-39.25</td>\n",
       "      <td>80.92</td>\n",
       "      <td>79.0</td>\n",
       "      <td>9.35</td>\n",
       "      <td>0.0</td>\n",
       "    </tr>\n",
       "    <tr>\n",
       "      <td>13</td>\n",
       "      <td>Placido De Castro</td>\n",
       "      <td>-10.34</td>\n",
       "      <td>-67.19</td>\n",
       "      <td>74.62</td>\n",
       "      <td>94.0</td>\n",
       "      <td>1.66</td>\n",
       "      <td>75.0</td>\n",
       "    </tr>\n",
       "    <tr>\n",
       "      <td>14</td>\n",
       "      <td>Albany</td>\n",
       "      <td>42.60</td>\n",
       "      <td>-73.97</td>\n",
       "      <td>46.26</td>\n",
       "      <td>40.0</td>\n",
       "      <td>8.05</td>\n",
       "      <td>90.0</td>\n",
       "    </tr>\n",
       "    <tr>\n",
       "      <td>15</td>\n",
       "      <td>Abu Zabad</td>\n",
       "      <td>12.35</td>\n",
       "      <td>29.25</td>\n",
       "      <td>66.31</td>\n",
       "      <td>13.0</td>\n",
       "      <td>12.26</td>\n",
       "      <td>0.0</td>\n",
       "    </tr>\n",
       "    <tr>\n",
       "      <td>16</td>\n",
       "      <td>Sept-Iles</td>\n",
       "      <td>50.20</td>\n",
       "      <td>-66.38</td>\n",
       "      <td>27.50</td>\n",
       "      <td>86.0</td>\n",
       "      <td>11.41</td>\n",
       "      <td>90.0</td>\n",
       "    </tr>\n",
       "    <tr>\n",
       "      <td>17</td>\n",
       "      <td>Ponta Do Sol</td>\n",
       "      <td>32.67</td>\n",
       "      <td>-17.10</td>\n",
       "      <td>59.27</td>\n",
       "      <td>77.0</td>\n",
       "      <td>4.83</td>\n",
       "      <td>20.0</td>\n",
       "    </tr>\n",
       "    <tr>\n",
       "      <td>18</td>\n",
       "      <td>Marrakesh</td>\n",
       "      <td>31.63</td>\n",
       "      <td>-8.01</td>\n",
       "      <td>57.20</td>\n",
       "      <td>71.0</td>\n",
       "      <td>3.36</td>\n",
       "      <td>0.0</td>\n",
       "    </tr>\n",
       "    <tr>\n",
       "      <td>19</td>\n",
       "      <td>Ushuaia</td>\n",
       "      <td>-54.80</td>\n",
       "      <td>-68.30</td>\n",
       "      <td>48.20</td>\n",
       "      <td>61.0</td>\n",
       "      <td>38.03</td>\n",
       "      <td>75.0</td>\n",
       "    </tr>\n",
       "    <tr>\n",
       "      <td>20</td>\n",
       "      <td>Jamestown</td>\n",
       "      <td>42.10</td>\n",
       "      <td>-79.24</td>\n",
       "      <td>42.35</td>\n",
       "      <td>100.0</td>\n",
       "      <td>6.93</td>\n",
       "      <td>90.0</td>\n",
       "    </tr>\n",
       "    <tr>\n",
       "      <td>21</td>\n",
       "      <td>Carutapera</td>\n",
       "      <td>-1.20</td>\n",
       "      <td>-46.02</td>\n",
       "      <td>82.40</td>\n",
       "      <td>78.0</td>\n",
       "      <td>11.59</td>\n",
       "      <td>100.0</td>\n",
       "    </tr>\n",
       "    <tr>\n",
       "      <td>22</td>\n",
       "      <td>San Andres</td>\n",
       "      <td>12.58</td>\n",
       "      <td>-81.70</td>\n",
       "      <td>82.40</td>\n",
       "      <td>65.0</td>\n",
       "      <td>11.41</td>\n",
       "      <td>20.0</td>\n",
       "    </tr>\n",
       "    <tr>\n",
       "      <td>23</td>\n",
       "      <td>Hermanus</td>\n",
       "      <td>-34.42</td>\n",
       "      <td>19.23</td>\n",
       "      <td>67.10</td>\n",
       "      <td>89.0</td>\n",
       "      <td>13.00</td>\n",
       "      <td>0.0</td>\n",
       "    </tr>\n",
       "    <tr>\n",
       "      <td>24</td>\n",
       "      <td>Vaitupu</td>\n",
       "      <td>NaN</td>\n",
       "      <td>NaN</td>\n",
       "      <td>NaN</td>\n",
       "      <td>NaN</td>\n",
       "      <td>NaN</td>\n",
       "      <td>NaN</td>\n",
       "    </tr>\n",
       "    <tr>\n",
       "      <td>25</td>\n",
       "      <td>Lompoc</td>\n",
       "      <td>34.64</td>\n",
       "      <td>-120.46</td>\n",
       "      <td>54.99</td>\n",
       "      <td>44.0</td>\n",
       "      <td>5.82</td>\n",
       "      <td>1.0</td>\n",
       "    </tr>\n",
       "    <tr>\n",
       "      <td>26</td>\n",
       "      <td>Basco</td>\n",
       "      <td>20.45</td>\n",
       "      <td>121.97</td>\n",
       "      <td>74.55</td>\n",
       "      <td>79.0</td>\n",
       "      <td>23.00</td>\n",
       "      <td>15.0</td>\n",
       "    </tr>\n",
       "    <tr>\n",
       "      <td>27</td>\n",
       "      <td>Linqiong</td>\n",
       "      <td>30.42</td>\n",
       "      <td>103.46</td>\n",
       "      <td>53.71</td>\n",
       "      <td>76.0</td>\n",
       "      <td>6.71</td>\n",
       "      <td>40.0</td>\n",
       "    </tr>\n",
       "    <tr>\n",
       "      <td>28</td>\n",
       "      <td>Qaanaaq</td>\n",
       "      <td>77.48</td>\n",
       "      <td>-69.36</td>\n",
       "      <td>-23.26</td>\n",
       "      <td>57.0</td>\n",
       "      <td>3.27</td>\n",
       "      <td>47.0</td>\n",
       "    </tr>\n",
       "    <tr>\n",
       "      <td>29</td>\n",
       "      <td>Mataura</td>\n",
       "      <td>-46.19</td>\n",
       "      <td>168.86</td>\n",
       "      <td>63.00</td>\n",
       "      <td>62.0</td>\n",
       "      <td>14.00</td>\n",
       "      <td>81.0</td>\n",
       "    </tr>\n",
       "  </tbody>\n",
       "</table>\n",
       "</div>"
      ],
      "text/plain": [
       "                 City    Lat     Lon   Temp  Humidity  Wind_Speed  Cloudiness\n",
       "0            Tsihombe    NaN     NaN    NaN       NaN         NaN         NaN\n",
       "1              Hobart -42.88  147.33  64.92      42.0       12.75        40.0\n",
       "2           Taolanaro    NaN     NaN    NaN       NaN         NaN         NaN\n",
       "3              Narsaq  60.92  -46.05  -0.40      44.0       10.29         0.0\n",
       "4              Torbay  47.67  -52.73  19.49      79.0       11.41        75.0\n",
       "5              Samusu    NaN     NaN    NaN       NaN         NaN         NaN\n",
       "6         New Norfolk -42.78  147.06  64.76      42.0       12.75        40.0\n",
       "7             Rikitea -23.12 -134.97  80.19      81.0       24.09       100.0\n",
       "8       Mar Del Plata -38.00  -57.56  72.66      83.0        6.93        37.0\n",
       "9      Cabo San Lucas  22.89 -109.91  66.83      77.0       13.87        40.0\n",
       "10           Ambilobe -13.20   49.05  74.03      93.0        4.09        62.0\n",
       "11          Busselton -33.65  115.33  82.00      28.0        4.00         0.0\n",
       "12          Caravelas -17.71  -39.25  80.92      79.0        9.35         0.0\n",
       "13  Placido De Castro -10.34  -67.19  74.62      94.0        1.66        75.0\n",
       "14             Albany  42.60  -73.97  46.26      40.0        8.05        90.0\n",
       "15          Abu Zabad  12.35   29.25  66.31      13.0       12.26         0.0\n",
       "16          Sept-Iles  50.20  -66.38  27.50      86.0       11.41        90.0\n",
       "17       Ponta Do Sol  32.67  -17.10  59.27      77.0        4.83        20.0\n",
       "18          Marrakesh  31.63   -8.01  57.20      71.0        3.36         0.0\n",
       "19            Ushuaia -54.80  -68.30  48.20      61.0       38.03        75.0\n",
       "20          Jamestown  42.10  -79.24  42.35     100.0        6.93        90.0\n",
       "21         Carutapera  -1.20  -46.02  82.40      78.0       11.59       100.0\n",
       "22         San Andres  12.58  -81.70  82.40      65.0       11.41        20.0\n",
       "23           Hermanus -34.42   19.23  67.10      89.0       13.00         0.0\n",
       "24            Vaitupu    NaN     NaN    NaN       NaN         NaN         NaN\n",
       "25             Lompoc  34.64 -120.46  54.99      44.0        5.82         1.0\n",
       "26              Basco  20.45  121.97  74.55      79.0       23.00        15.0\n",
       "27           Linqiong  30.42  103.46  53.71      76.0        6.71        40.0\n",
       "28            Qaanaaq  77.48  -69.36 -23.26      57.0        3.27        47.0\n",
       "29            Mataura -46.19  168.86  63.00      62.0       14.00        81.0"
      ]
     },
     "execution_count": 9,
     "metadata": {},
     "output_type": "execute_result"
    }
   ],
   "source": [
    "#create a dataframe from the dictionary\n",
    "city_df = pd.DataFrame(city_dict)\n",
    "\n",
    "city_df.head(30)"
   ]
  },
  {
   "cell_type": "code",
   "execution_count": 10,
   "metadata": {},
   "outputs": [
    {
     "data": {
      "text/plain": [
       "City           object\n",
       "Lat           float64\n",
       "Lon           float64\n",
       "Temp          float64\n",
       "Humidity      float64\n",
       "Wind_Speed    float64\n",
       "Cloudiness    float64\n",
       "dtype: object"
      ]
     },
     "execution_count": 10,
     "metadata": {},
     "output_type": "execute_result"
    }
   ],
   "source": [
    "#clean up the dataframe- verify datatypes\n",
    "city_df.dtypes\n"
   ]
  },
  {
   "cell_type": "code",
   "execution_count": 11,
   "metadata": {},
   "outputs": [],
   "source": [
    "#convert latitude, temp, humidity, wind speed, cloudiness to floating points\n",
    "#city_df[\"Lat\"] = pd.to_numeric(city_df[\"Lat\"], errors='coerce')\n",
    "#city_df[\"Temp\"] = pd.to_numeric(city_df[\"Temp\"], errors='coerce')\n",
    "#city_df[\"Humidity\"] = pd.to_numeric(city_df[\"Humidity\"], errors='coerce')\n",
    "#city_df[\"Wind_Speed\"] = pd.to_numeric(city_df[\"Wind_Speed\"], errors='coerce')\n",
    "#city_df[\"Cloudiness\"] = pd.to_numeric(city_df[\"Cloudiness\"], errors='coerce')\n",
    "#city_df.dtypes"
   ]
  },
  {
   "cell_type": "code",
   "execution_count": 12,
   "metadata": {},
   "outputs": [
    {
     "name": "stdout",
     "output_type": "stream",
     "text": [
      "76 complete sets of city data.\n"
     ]
    },
    {
     "data": {
      "text/html": [
       "<div>\n",
       "<style scoped>\n",
       "    .dataframe tbody tr th:only-of-type {\n",
       "        vertical-align: middle;\n",
       "    }\n",
       "\n",
       "    .dataframe tbody tr th {\n",
       "        vertical-align: top;\n",
       "    }\n",
       "\n",
       "    .dataframe thead th {\n",
       "        text-align: right;\n",
       "    }\n",
       "</style>\n",
       "<table border=\"1\" class=\"dataframe\">\n",
       "  <thead>\n",
       "    <tr style=\"text-align: right;\">\n",
       "      <th></th>\n",
       "      <th>City</th>\n",
       "      <th>Lat</th>\n",
       "      <th>Lon</th>\n",
       "      <th>Temp</th>\n",
       "      <th>Humidity</th>\n",
       "      <th>Wind_Speed</th>\n",
       "      <th>Cloudiness</th>\n",
       "    </tr>\n",
       "  </thead>\n",
       "  <tbody>\n",
       "    <tr>\n",
       "      <td>1</td>\n",
       "      <td>Hobart</td>\n",
       "      <td>-42.88</td>\n",
       "      <td>147.33</td>\n",
       "      <td>64.92</td>\n",
       "      <td>42.0</td>\n",
       "      <td>12.75</td>\n",
       "      <td>40.0</td>\n",
       "    </tr>\n",
       "    <tr>\n",
       "      <td>3</td>\n",
       "      <td>Narsaq</td>\n",
       "      <td>60.92</td>\n",
       "      <td>-46.05</td>\n",
       "      <td>-0.40</td>\n",
       "      <td>44.0</td>\n",
       "      <td>10.29</td>\n",
       "      <td>0.0</td>\n",
       "    </tr>\n",
       "    <tr>\n",
       "      <td>4</td>\n",
       "      <td>Torbay</td>\n",
       "      <td>47.67</td>\n",
       "      <td>-52.73</td>\n",
       "      <td>19.49</td>\n",
       "      <td>79.0</td>\n",
       "      <td>11.41</td>\n",
       "      <td>75.0</td>\n",
       "    </tr>\n",
       "    <tr>\n",
       "      <td>6</td>\n",
       "      <td>New Norfolk</td>\n",
       "      <td>-42.78</td>\n",
       "      <td>147.06</td>\n",
       "      <td>64.76</td>\n",
       "      <td>42.0</td>\n",
       "      <td>12.75</td>\n",
       "      <td>40.0</td>\n",
       "    </tr>\n",
       "    <tr>\n",
       "      <td>7</td>\n",
       "      <td>Rikitea</td>\n",
       "      <td>-23.12</td>\n",
       "      <td>-134.97</td>\n",
       "      <td>80.19</td>\n",
       "      <td>81.0</td>\n",
       "      <td>24.09</td>\n",
       "      <td>100.0</td>\n",
       "    </tr>\n",
       "    <tr>\n",
       "      <td>8</td>\n",
       "      <td>Mar Del Plata</td>\n",
       "      <td>-38.00</td>\n",
       "      <td>-57.56</td>\n",
       "      <td>72.66</td>\n",
       "      <td>83.0</td>\n",
       "      <td>6.93</td>\n",
       "      <td>37.0</td>\n",
       "    </tr>\n",
       "    <tr>\n",
       "      <td>9</td>\n",
       "      <td>Cabo San Lucas</td>\n",
       "      <td>22.89</td>\n",
       "      <td>-109.91</td>\n",
       "      <td>66.83</td>\n",
       "      <td>77.0</td>\n",
       "      <td>13.87</td>\n",
       "      <td>40.0</td>\n",
       "    </tr>\n",
       "    <tr>\n",
       "      <td>10</td>\n",
       "      <td>Ambilobe</td>\n",
       "      <td>-13.20</td>\n",
       "      <td>49.05</td>\n",
       "      <td>74.03</td>\n",
       "      <td>93.0</td>\n",
       "      <td>4.09</td>\n",
       "      <td>62.0</td>\n",
       "    </tr>\n",
       "    <tr>\n",
       "      <td>11</td>\n",
       "      <td>Busselton</td>\n",
       "      <td>-33.65</td>\n",
       "      <td>115.33</td>\n",
       "      <td>82.00</td>\n",
       "      <td>28.0</td>\n",
       "      <td>4.00</td>\n",
       "      <td>0.0</td>\n",
       "    </tr>\n",
       "    <tr>\n",
       "      <td>12</td>\n",
       "      <td>Caravelas</td>\n",
       "      <td>-17.71</td>\n",
       "      <td>-39.25</td>\n",
       "      <td>80.92</td>\n",
       "      <td>79.0</td>\n",
       "      <td>9.35</td>\n",
       "      <td>0.0</td>\n",
       "    </tr>\n",
       "    <tr>\n",
       "      <td>13</td>\n",
       "      <td>Placido De Castro</td>\n",
       "      <td>-10.34</td>\n",
       "      <td>-67.19</td>\n",
       "      <td>74.62</td>\n",
       "      <td>94.0</td>\n",
       "      <td>1.66</td>\n",
       "      <td>75.0</td>\n",
       "    </tr>\n",
       "    <tr>\n",
       "      <td>14</td>\n",
       "      <td>Albany</td>\n",
       "      <td>42.60</td>\n",
       "      <td>-73.97</td>\n",
       "      <td>46.26</td>\n",
       "      <td>40.0</td>\n",
       "      <td>8.05</td>\n",
       "      <td>90.0</td>\n",
       "    </tr>\n",
       "    <tr>\n",
       "      <td>15</td>\n",
       "      <td>Abu Zabad</td>\n",
       "      <td>12.35</td>\n",
       "      <td>29.25</td>\n",
       "      <td>66.31</td>\n",
       "      <td>13.0</td>\n",
       "      <td>12.26</td>\n",
       "      <td>0.0</td>\n",
       "    </tr>\n",
       "    <tr>\n",
       "      <td>16</td>\n",
       "      <td>Sept-Iles</td>\n",
       "      <td>50.20</td>\n",
       "      <td>-66.38</td>\n",
       "      <td>27.50</td>\n",
       "      <td>86.0</td>\n",
       "      <td>11.41</td>\n",
       "      <td>90.0</td>\n",
       "    </tr>\n",
       "    <tr>\n",
       "      <td>17</td>\n",
       "      <td>Ponta Do Sol</td>\n",
       "      <td>32.67</td>\n",
       "      <td>-17.10</td>\n",
       "      <td>59.27</td>\n",
       "      <td>77.0</td>\n",
       "      <td>4.83</td>\n",
       "      <td>20.0</td>\n",
       "    </tr>\n",
       "    <tr>\n",
       "      <td>18</td>\n",
       "      <td>Marrakesh</td>\n",
       "      <td>31.63</td>\n",
       "      <td>-8.01</td>\n",
       "      <td>57.20</td>\n",
       "      <td>71.0</td>\n",
       "      <td>3.36</td>\n",
       "      <td>0.0</td>\n",
       "    </tr>\n",
       "    <tr>\n",
       "      <td>19</td>\n",
       "      <td>Ushuaia</td>\n",
       "      <td>-54.80</td>\n",
       "      <td>-68.30</td>\n",
       "      <td>48.20</td>\n",
       "      <td>61.0</td>\n",
       "      <td>38.03</td>\n",
       "      <td>75.0</td>\n",
       "    </tr>\n",
       "    <tr>\n",
       "      <td>20</td>\n",
       "      <td>Jamestown</td>\n",
       "      <td>42.10</td>\n",
       "      <td>-79.24</td>\n",
       "      <td>42.35</td>\n",
       "      <td>100.0</td>\n",
       "      <td>6.93</td>\n",
       "      <td>90.0</td>\n",
       "    </tr>\n",
       "    <tr>\n",
       "      <td>21</td>\n",
       "      <td>Carutapera</td>\n",
       "      <td>-1.20</td>\n",
       "      <td>-46.02</td>\n",
       "      <td>82.40</td>\n",
       "      <td>78.0</td>\n",
       "      <td>11.59</td>\n",
       "      <td>100.0</td>\n",
       "    </tr>\n",
       "    <tr>\n",
       "      <td>22</td>\n",
       "      <td>San Andres</td>\n",
       "      <td>12.58</td>\n",
       "      <td>-81.70</td>\n",
       "      <td>82.40</td>\n",
       "      <td>65.0</td>\n",
       "      <td>11.41</td>\n",
       "      <td>20.0</td>\n",
       "    </tr>\n",
       "    <tr>\n",
       "      <td>23</td>\n",
       "      <td>Hermanus</td>\n",
       "      <td>-34.42</td>\n",
       "      <td>19.23</td>\n",
       "      <td>67.10</td>\n",
       "      <td>89.0</td>\n",
       "      <td>13.00</td>\n",
       "      <td>0.0</td>\n",
       "    </tr>\n",
       "    <tr>\n",
       "      <td>25</td>\n",
       "      <td>Lompoc</td>\n",
       "      <td>34.64</td>\n",
       "      <td>-120.46</td>\n",
       "      <td>54.99</td>\n",
       "      <td>44.0</td>\n",
       "      <td>5.82</td>\n",
       "      <td>1.0</td>\n",
       "    </tr>\n",
       "    <tr>\n",
       "      <td>26</td>\n",
       "      <td>Basco</td>\n",
       "      <td>20.45</td>\n",
       "      <td>121.97</td>\n",
       "      <td>74.55</td>\n",
       "      <td>79.0</td>\n",
       "      <td>23.00</td>\n",
       "      <td>15.0</td>\n",
       "    </tr>\n",
       "    <tr>\n",
       "      <td>27</td>\n",
       "      <td>Linqiong</td>\n",
       "      <td>30.42</td>\n",
       "      <td>103.46</td>\n",
       "      <td>53.71</td>\n",
       "      <td>76.0</td>\n",
       "      <td>6.71</td>\n",
       "      <td>40.0</td>\n",
       "    </tr>\n",
       "    <tr>\n",
       "      <td>28</td>\n",
       "      <td>Qaanaaq</td>\n",
       "      <td>77.48</td>\n",
       "      <td>-69.36</td>\n",
       "      <td>-23.26</td>\n",
       "      <td>57.0</td>\n",
       "      <td>3.27</td>\n",
       "      <td>47.0</td>\n",
       "    </tr>\n",
       "    <tr>\n",
       "      <td>29</td>\n",
       "      <td>Mataura</td>\n",
       "      <td>-46.19</td>\n",
       "      <td>168.86</td>\n",
       "      <td>63.00</td>\n",
       "      <td>62.0</td>\n",
       "      <td>14.00</td>\n",
       "      <td>81.0</td>\n",
       "    </tr>\n",
       "    <tr>\n",
       "      <td>30</td>\n",
       "      <td>Vaini</td>\n",
       "      <td>-21.20</td>\n",
       "      <td>-175.20</td>\n",
       "      <td>86.00</td>\n",
       "      <td>70.0</td>\n",
       "      <td>10.29</td>\n",
       "      <td>40.0</td>\n",
       "    </tr>\n",
       "    <tr>\n",
       "      <td>31</td>\n",
       "      <td>Yellowknife</td>\n",
       "      <td>62.46</td>\n",
       "      <td>-114.35</td>\n",
       "      <td>-5.80</td>\n",
       "      <td>76.0</td>\n",
       "      <td>6.93</td>\n",
       "      <td>40.0</td>\n",
       "    </tr>\n",
       "    <tr>\n",
       "      <td>32</td>\n",
       "      <td>Guerrero Negro</td>\n",
       "      <td>27.98</td>\n",
       "      <td>-114.06</td>\n",
       "      <td>56.25</td>\n",
       "      <td>55.0</td>\n",
       "      <td>9.91</td>\n",
       "      <td>2.0</td>\n",
       "    </tr>\n",
       "    <tr>\n",
       "      <td>33</td>\n",
       "      <td>Mayo</td>\n",
       "      <td>38.89</td>\n",
       "      <td>-76.51</td>\n",
       "      <td>53.15</td>\n",
       "      <td>66.0</td>\n",
       "      <td>8.05</td>\n",
       "      <td>90.0</td>\n",
       "    </tr>\n",
       "  </tbody>\n",
       "</table>\n",
       "</div>"
      ],
      "text/plain": [
       "                 City    Lat     Lon   Temp  Humidity  Wind_Speed  Cloudiness\n",
       "1              Hobart -42.88  147.33  64.92      42.0       12.75        40.0\n",
       "3              Narsaq  60.92  -46.05  -0.40      44.0       10.29         0.0\n",
       "4              Torbay  47.67  -52.73  19.49      79.0       11.41        75.0\n",
       "6         New Norfolk -42.78  147.06  64.76      42.0       12.75        40.0\n",
       "7             Rikitea -23.12 -134.97  80.19      81.0       24.09       100.0\n",
       "8       Mar Del Plata -38.00  -57.56  72.66      83.0        6.93        37.0\n",
       "9      Cabo San Lucas  22.89 -109.91  66.83      77.0       13.87        40.0\n",
       "10           Ambilobe -13.20   49.05  74.03      93.0        4.09        62.0\n",
       "11          Busselton -33.65  115.33  82.00      28.0        4.00         0.0\n",
       "12          Caravelas -17.71  -39.25  80.92      79.0        9.35         0.0\n",
       "13  Placido De Castro -10.34  -67.19  74.62      94.0        1.66        75.0\n",
       "14             Albany  42.60  -73.97  46.26      40.0        8.05        90.0\n",
       "15          Abu Zabad  12.35   29.25  66.31      13.0       12.26         0.0\n",
       "16          Sept-Iles  50.20  -66.38  27.50      86.0       11.41        90.0\n",
       "17       Ponta Do Sol  32.67  -17.10  59.27      77.0        4.83        20.0\n",
       "18          Marrakesh  31.63   -8.01  57.20      71.0        3.36         0.0\n",
       "19            Ushuaia -54.80  -68.30  48.20      61.0       38.03        75.0\n",
       "20          Jamestown  42.10  -79.24  42.35     100.0        6.93        90.0\n",
       "21         Carutapera  -1.20  -46.02  82.40      78.0       11.59       100.0\n",
       "22         San Andres  12.58  -81.70  82.40      65.0       11.41        20.0\n",
       "23           Hermanus -34.42   19.23  67.10      89.0       13.00         0.0\n",
       "25             Lompoc  34.64 -120.46  54.99      44.0        5.82         1.0\n",
       "26              Basco  20.45  121.97  74.55      79.0       23.00        15.0\n",
       "27           Linqiong  30.42  103.46  53.71      76.0        6.71        40.0\n",
       "28            Qaanaaq  77.48  -69.36 -23.26      57.0        3.27        47.0\n",
       "29            Mataura -46.19  168.86  63.00      62.0       14.00        81.0\n",
       "30              Vaini -21.20 -175.20  86.00      70.0       10.29        40.0\n",
       "31        Yellowknife  62.46 -114.35  -5.80      76.0        6.93        40.0\n",
       "32     Guerrero Negro  27.98 -114.06  56.25      55.0        9.91         2.0\n",
       "33               Mayo  38.89  -76.51  53.15      66.0        8.05        90.0"
      ]
     },
     "execution_count": 12,
     "metadata": {},
     "output_type": "execute_result"
    }
   ],
   "source": [
    "#drop \"na\" values\n",
    "city_df = city_df.dropna(how='any', axis=0)\n",
    "#verify nan dropped\n",
    "print (f\"{len(city_df.index)} complete sets of city data.\")\n",
    "city_df.head(30)"
   ]
  },
  {
   "cell_type": "code",
   "execution_count": 13,
   "metadata": {},
   "outputs": [],
   "source": [
    "#export dataframe to csv with option to drop the index\n",
    "city_df.to_csv(output_data_file, index=False)"
   ]
  },
  {
   "cell_type": "markdown",
   "metadata": {},
   "source": [
    "### Plotting the Data\n",
    "* Use proper labeling of the plots using plot titles (including date of analysis) and axes labels.\n",
    "* Save the plotted figures as .pngs."
   ]
  },
  {
   "cell_type": "markdown",
   "metadata": {},
   "source": [
    "#### Latitude vs. Temperature Plot"
   ]
  },
  {
   "cell_type": "code",
   "execution_count": 14,
   "metadata": {
    "scrolled": true
   },
   "outputs": [
    {
     "data": {
      "image/png": "[encoded data removed]",
      "text/plain": [
       "<Figure size 432x288 with 1 Axes>"
      ]
     },
     "metadata": {
      "needs_background": "light"
     },
     "output_type": "display_data"
    }
   ],
   "source": [
    "#scatter plot for latitude vs temperature\n",
    "plt.scatter(city_df[\"Lat\"], city_df[\"Temp\"])\n",
    "plt.xlabel('Latitude')\n",
    "plt.ylabel('Temperature (Deg F)')\n",
    "plt.show()"
   ]
  },
  {
   "cell_type": "markdown",
   "metadata": {},
   "source": [
    "#### Latitude vs. Humidity Plot"
   ]
  },
  {
   "cell_type": "code",
   "execution_count": 15,
   "metadata": {},
   "outputs": [
    {
     "data": {
      "image/png": "[encoded data removed]",
      "text/plain": [
       "<Figure size 432x288 with 1 Axes>"
      ]
     },
     "metadata": {
      "needs_background": "light"
     },
     "output_type": "display_data"
    }
   ],
   "source": [
    "#scatter plot for latitude vs temperature\n",
    "plt.scatter(city_df[\"Lat\"], city_df[\"Humidity\"])\n",
    "plt.xlabel('Latitude')\n",
    "plt.ylabel('Humidity (%)')\n",
    "plt.show()"
   ]
  },
  {
   "cell_type": "markdown",
   "metadata": {},
   "source": [
    "#### Latitude vs. Cloudiness Plot"
   ]
  },
  {
   "cell_type": "code",
   "execution_count": 16,
   "metadata": {},
   "outputs": [
    {
     "data": {
      "image/png": "[encoded data removed]",
      "text/plain": [
       "<Figure size 432x288 with 1 Axes>"
      ]
     },
     "metadata": {
      "needs_background": "light"
     },
     "output_type": "display_data"
    }
   ],
   "source": [
    "#scatter plot for latitude vs temperature\n",
    "plt.scatter(city_df[\"Lat\"], city_df[\"Cloudiness\"])\n",
    "plt.xlabel('Latitude')\n",
    "plt.ylabel('Cloudiness (%)')\n",
    "plt.show()"
   ]
  },
  {
   "cell_type": "markdown",
   "metadata": {},
   "source": [
    "#### Latitude vs. Wind Speed Plot"
   ]
  },
  {
   "cell_type": "code",
   "execution_count": 17,
   "metadata": {},
   "outputs": [
    {
     "data": {
      "image/png": "[encoded data removed]",
      "text/plain": [
       "<Figure size 432x288 with 1 Axes>"
      ]
     },
     "metadata": {
      "needs_background": "light"
     },
     "output_type": "display_data"
    }
   ],
   "source": [
    "#scatter plot for latitude vs temperature\n",
    "plt.scatter(city_df[\"Lat\"], city_df[\"Wind_Speed\"])\n",
    "plt.xlabel('Latitude')\n",
    "plt.ylabel('Wind Speed (MPH)')\n",
    "plt.show()"
   ]
  },
  {
   "cell_type": "markdown",
   "metadata": {},
   "source": [
    "## Linear Regression"
   ]
  },
  {
   "cell_type": "code",
   "execution_count": 18,
   "metadata": {},
   "outputs": [],
   "source": [
    "# OPTIONAL: Create a function to create Linear Regression plots\n",
    "#(slope, intercept, rvalue, pvalue, stderr) = linregress(x_values, y_values)\n",
    "#regress_values = x_values * slope + intercept\n",
    "#line_eq = \"y = \" + str(round(slope,2)) + \"x + \" + str(round(intercept,2))"
   ]
  },
  {
   "cell_type": "code",
   "execution_count": 19,
   "metadata": {},
   "outputs": [
    {
     "data": {
      "text/html": [
       "<div>\n",
       "<style scoped>\n",
       "    .dataframe tbody tr th:only-of-type {\n",
       "        vertical-align: middle;\n",
       "    }\n",
       "\n",
       "    .dataframe tbody tr th {\n",
       "        vertical-align: top;\n",
       "    }\n",
       "\n",
       "    .dataframe thead th {\n",
       "        text-align: right;\n",
       "    }\n",
       "</style>\n",
       "<table border=\"1\" class=\"dataframe\">\n",
       "  <thead>\n",
       "    <tr style=\"text-align: right;\">\n",
       "      <th></th>\n",
       "      <th>City</th>\n",
       "      <th>Lat</th>\n",
       "      <th>Lon</th>\n",
       "      <th>Temp</th>\n",
       "      <th>Humidity</th>\n",
       "      <th>Wind_Speed</th>\n",
       "      <th>Cloudiness</th>\n",
       "    </tr>\n",
       "  </thead>\n",
       "  <tbody>\n",
       "    <tr>\n",
       "      <td>3</td>\n",
       "      <td>Narsaq</td>\n",
       "      <td>60.92</td>\n",
       "      <td>-46.05</td>\n",
       "      <td>-0.40</td>\n",
       "      <td>44.0</td>\n",
       "      <td>10.29</td>\n",
       "      <td>0.0</td>\n",
       "    </tr>\n",
       "    <tr>\n",
       "      <td>4</td>\n",
       "      <td>Torbay</td>\n",
       "      <td>47.67</td>\n",
       "      <td>-52.73</td>\n",
       "      <td>19.49</td>\n",
       "      <td>79.0</td>\n",
       "      <td>11.41</td>\n",
       "      <td>75.0</td>\n",
       "    </tr>\n",
       "    <tr>\n",
       "      <td>9</td>\n",
       "      <td>Cabo San Lucas</td>\n",
       "      <td>22.89</td>\n",
       "      <td>-109.91</td>\n",
       "      <td>66.83</td>\n",
       "      <td>77.0</td>\n",
       "      <td>13.87</td>\n",
       "      <td>40.0</td>\n",
       "    </tr>\n",
       "    <tr>\n",
       "      <td>14</td>\n",
       "      <td>Albany</td>\n",
       "      <td>42.60</td>\n",
       "      <td>-73.97</td>\n",
       "      <td>46.26</td>\n",
       "      <td>40.0</td>\n",
       "      <td>8.05</td>\n",
       "      <td>90.0</td>\n",
       "    </tr>\n",
       "    <tr>\n",
       "      <td>15</td>\n",
       "      <td>Abu Zabad</td>\n",
       "      <td>12.35</td>\n",
       "      <td>29.25</td>\n",
       "      <td>66.31</td>\n",
       "      <td>13.0</td>\n",
       "      <td>12.26</td>\n",
       "      <td>0.0</td>\n",
       "    </tr>\n",
       "  </tbody>\n",
       "</table>\n",
       "</div>"
      ],
      "text/plain": [
       "              City    Lat     Lon   Temp  Humidity  Wind_Speed  Cloudiness\n",
       "3           Narsaq  60.92  -46.05  -0.40      44.0       10.29         0.0\n",
       "4           Torbay  47.67  -52.73  19.49      79.0       11.41        75.0\n",
       "9   Cabo San Lucas  22.89 -109.91  66.83      77.0       13.87        40.0\n",
       "14          Albany  42.60  -73.97  46.26      40.0        8.05        90.0\n",
       "15       Abu Zabad  12.35   29.25  66.31      13.0       12.26         0.0"
      ]
     },
     "execution_count": 19,
     "metadata": {},
     "output_type": "execute_result"
    }
   ],
   "source": [
    "# Create Northern and Southern Hemisphere DataFrames\n",
    "north_df = city_df[city_df[\"Lat\"]>0]\n",
    "north_df.head()"
   ]
  },
  {
   "cell_type": "code",
   "execution_count": 20,
   "metadata": {},
   "outputs": [
    {
     "data": {
      "text/html": [
       "<div>\n",
       "<style scoped>\n",
       "    .dataframe tbody tr th:only-of-type {\n",
       "        vertical-align: middle;\n",
       "    }\n",
       "\n",
       "    .dataframe tbody tr th {\n",
       "        vertical-align: top;\n",
       "    }\n",
       "\n",
       "    .dataframe thead th {\n",
       "        text-align: right;\n",
       "    }\n",
       "</style>\n",
       "<table border=\"1\" class=\"dataframe\">\n",
       "  <thead>\n",
       "    <tr style=\"text-align: right;\">\n",
       "      <th></th>\n",
       "      <th>City</th>\n",
       "      <th>Lat</th>\n",
       "      <th>Lon</th>\n",
       "      <th>Temp</th>\n",
       "      <th>Humidity</th>\n",
       "      <th>Wind_Speed</th>\n",
       "      <th>Cloudiness</th>\n",
       "    </tr>\n",
       "  </thead>\n",
       "  <tbody>\n",
       "    <tr>\n",
       "      <td>1</td>\n",
       "      <td>Hobart</td>\n",
       "      <td>-42.88</td>\n",
       "      <td>147.33</td>\n",
       "      <td>64.92</td>\n",
       "      <td>42.0</td>\n",
       "      <td>12.75</td>\n",
       "      <td>40.0</td>\n",
       "    </tr>\n",
       "    <tr>\n",
       "      <td>6</td>\n",
       "      <td>New Norfolk</td>\n",
       "      <td>-42.78</td>\n",
       "      <td>147.06</td>\n",
       "      <td>64.76</td>\n",
       "      <td>42.0</td>\n",
       "      <td>12.75</td>\n",
       "      <td>40.0</td>\n",
       "    </tr>\n",
       "    <tr>\n",
       "      <td>7</td>\n",
       "      <td>Rikitea</td>\n",
       "      <td>-23.12</td>\n",
       "      <td>-134.97</td>\n",
       "      <td>80.19</td>\n",
       "      <td>81.0</td>\n",
       "      <td>24.09</td>\n",
       "      <td>100.0</td>\n",
       "    </tr>\n",
       "    <tr>\n",
       "      <td>8</td>\n",
       "      <td>Mar Del Plata</td>\n",
       "      <td>-38.00</td>\n",
       "      <td>-57.56</td>\n",
       "      <td>72.66</td>\n",
       "      <td>83.0</td>\n",
       "      <td>6.93</td>\n",
       "      <td>37.0</td>\n",
       "    </tr>\n",
       "    <tr>\n",
       "      <td>10</td>\n",
       "      <td>Ambilobe</td>\n",
       "      <td>-13.20</td>\n",
       "      <td>49.05</td>\n",
       "      <td>74.03</td>\n",
       "      <td>93.0</td>\n",
       "      <td>4.09</td>\n",
       "      <td>62.0</td>\n",
       "    </tr>\n",
       "  </tbody>\n",
       "</table>\n",
       "</div>"
      ],
      "text/plain": [
       "             City    Lat     Lon   Temp  Humidity  Wind_Speed  Cloudiness\n",
       "1          Hobart -42.88  147.33  64.92      42.0       12.75        40.0\n",
       "6     New Norfolk -42.78  147.06  64.76      42.0       12.75        40.0\n",
       "7         Rikitea -23.12 -134.97  80.19      81.0       24.09       100.0\n",
       "8   Mar Del Plata -38.00  -57.56  72.66      83.0        6.93        37.0\n",
       "10       Ambilobe -13.20   49.05  74.03      93.0        4.09        62.0"
      ]
     },
     "execution_count": 20,
     "metadata": {},
     "output_type": "execute_result"
    }
   ],
   "source": [
    "south_df = city_df[city_df[\"Lat\"]<0]\n",
    "south_df.head()"
   ]
  },
  {
   "cell_type": "markdown",
   "metadata": {},
   "source": [
    "####  Northern Hemisphere - Max Temp vs. Latitude Linear Regression"
   ]
  },
  {
   "cell_type": "code",
   "execution_count": 21,
   "metadata": {},
   "outputs": [
    {
     "data": {
      "image/png": "[encoded data removed]",
      "text/plain": [
       "<Figure size 432x288 with 1 Axes>"
      ]
     },
     "metadata": {
      "needs_background": "light"
     },
     "output_type": "display_data"
    }
   ],
   "source": [
    "x_values = north_df[\"Temp\"]\n",
    "y_values = north_df[\"Lat\"]\n",
    "(slope, intercept, rvalue, pvalue, stderr) = linregress(x_values, y_values)\n",
    "regress_values = x_values * slope + intercept\n",
    "line_eq = \"y = \" + str(round(slope,2)) + \"x + \" + str(round(intercept,2))\n",
    "plt.scatter(x_values,y_values)\n",
    "plt.plot(x_values,regress_values,\"r-\")\n",
    "plt.annotate(line_eq,(6,10),fontsize=15,color=\"red\")\n",
    "plt.xlabel('Temperature (Deg F)')\n",
    "plt.ylabel('Latitude')\n",
    "plt.show()"
   ]
  },
  {
   "cell_type": "markdown",
   "metadata": {},
   "source": [
    "####  Southern Hemisphere - Max Temp vs. Latitude Linear Regression"
   ]
  },
  {
   "cell_type": "code",
   "execution_count": 22,
   "metadata": {},
   "outputs": [
    {
     "data": {
      "image/png": "[encoded data removed]",
      "text/plain": [
       "<Figure size 432x288 with 1 Axes>"
      ]
     },
     "metadata": {
      "needs_background": "light"
     },
     "output_type": "display_data"
    }
   ],
   "source": [
    "x_values = south_df[\"Temp\"]\n",
    "y_values = south_df[\"Lat\"]\n",
    "(slope, intercept, rvalue, pvalue, stderr) = linregress(x_values, y_values)\n",
    "regress_values = x_values * slope + intercept\n",
    "line_eq = \"y = \" + str(round(slope,2)) + \"x + \" + str(round(intercept,2))\n",
    "plt.scatter(x_values,y_values)\n",
    "plt.plot(x_values,regress_values,\"r-\")\n",
    "plt.annotate(line_eq,(6,10),fontsize=15,color=\"red\")\n",
    "plt.xlabel('Temperature (Deg F)')\n",
    "plt.ylabel('Latitude')\n",
    "plt.show()"
   ]
  },
  {
   "cell_type": "markdown",
   "metadata": {},
   "source": [
    "####  Northern Hemisphere - Humidity (%) vs. Latitude Linear Regression"
   ]
  },
  {
   "cell_type": "code",
   "execution_count": 23,
   "metadata": {},
   "outputs": [
    {
     "data": {
      "image/png": "[encoded data removed]",
      "text/plain": [
       "<Figure size 432x288 with 1 Axes>"
      ]
     },
     "metadata": {
      "needs_background": "light"
     },
     "output_type": "display_data"
    }
   ],
   "source": [
    "x_values = north_df[\"Humidity\"]\n",
    "y_values = north_df[\"Lat\"]\n",
    "(slope, intercept, rvalue, pvalue, stderr) = linregress(x_values, y_values)\n",
    "regress_values = x_values * slope + intercept\n",
    "line_eq = \"y = \" + str(round(slope,2)) + \"x + \" + str(round(intercept,2))\n",
    "plt.scatter(x_values,y_values)\n",
    "plt.plot(x_values,regress_values,\"r-\")\n",
    "plt.annotate(line_eq,(6,10),fontsize=15,color=\"red\")\n",
    "plt.xlabel('Humidity %')\n",
    "plt.ylabel('Latitude')\n",
    "plt.show()"
   ]
  },
  {
   "cell_type": "markdown",
   "metadata": {},
   "source": [
    "####  Southern Hemisphere - Humidity (%) vs. Latitude Linear Regression"
   ]
  },
  {
   "cell_type": "code",
   "execution_count": 24,
   "metadata": {},
   "outputs": [
    {
     "data": {
      "image/png": "[encoded data removed]",
      "text/plain": [
       "<Figure size 432x288 with 1 Axes>"
      ]
     },
     "metadata": {
      "needs_background": "light"
     },
     "output_type": "display_data"
    }
   ],
   "source": [
    "x_values = south_df[\"Humidity\"]\n",
    "y_values = south_df[\"Lat\"]\n",
    "(slope, intercept, rvalue, pvalue, stderr) = linregress(x_values, y_values)\n",
    "regress_values = x_values * slope + intercept\n",
    "line_eq = \"y = \" + str(round(slope,2)) + \"x + \" + str(round(intercept,2))\n",
    "plt.scatter(x_values,y_values)\n",
    "plt.plot(x_values,regress_values,\"r-\")\n",
    "plt.annotate(line_eq,(6,10),fontsize=15,color=\"red\")\n",
    "plt.xlabel('Humidity (%)')\n",
    "plt.ylabel('Latitude')\n",
    "plt.show()"
   ]
  },
  {
   "cell_type": "markdown",
   "metadata": {},
   "source": [
    "####  Northern Hemisphere - Cloudiness (%) vs. Latitude Linear Regression"
   ]
  },
  {
   "cell_type": "code",
   "execution_count": 25,
   "metadata": {},
   "outputs": [
    {
     "data": {
      "image/png": "[encoded data removed]",
      "text/plain": [
       "<Figure size 432x288 with 1 Axes>"
      ]
     },
     "metadata": {
      "needs_background": "light"
     },
     "output_type": "display_data"
    }
   ],
   "source": [
    "x_values = north_df[\"Cloudiness\"]\n",
    "y_values = north_df[\"Lat\"]\n",
    "(slope, intercept, rvalue, pvalue, stderr) = linregress(x_values, y_values)\n",
    "regress_values = x_values * slope + intercept\n",
    "line_eq = \"y = \" + str(round(slope,2)) + \"x + \" + str(round(intercept,2))\n",
    "plt.scatter(x_values,y_values)\n",
    "plt.plot(x_values,regress_values,\"r-\")\n",
    "plt.annotate(line_eq,(6,10),fontsize=15,color=\"red\")\n",
    "plt.xlabel('Cloudiness (%)')\n",
    "plt.ylabel('Latitude')\n",
    "plt.show()"
   ]
  },
  {
   "cell_type": "markdown",
   "metadata": {},
   "source": [
    "####  Southern Hemisphere - Cloudiness (%) vs. Latitude Linear Regression"
   ]
  },
  {
   "cell_type": "code",
   "execution_count": 26,
   "metadata": {},
   "outputs": [
    {
     "data": {
      "image/png": "[encoded data removed]",
      "text/plain": [
       "<Figure size 432x288 with 1 Axes>"
      ]
     },
     "metadata": {
      "needs_background": "light"
     },
     "output_type": "display_data"
    }
   ],
   "source": [
    "x_values = south_df[\"Cloudiness\"]\n",
    "y_values = south_df[\"Lat\"]\n",
    "(slope, intercept, rvalue, pvalue, stderr) = linregress(x_values, y_values)\n",
    "regress_values = x_values * slope + intercept\n",
    "line_eq = \"y = \" + str(round(slope,2)) + \"x + \" + str(round(intercept,2))\n",
    "plt.scatter(x_values,y_values)\n",
    "plt.plot(x_values,regress_values,\"r-\")\n",
    "plt.annotate(line_eq,(6,10),fontsize=15,color=\"red\")\n",
    "plt.xlabel('Cloudiness (%)')\n",
    "plt.ylabel('Latitude')\n",
    "plt.show()"
   ]
  },
  {
   "cell_type": "markdown",
   "metadata": {},
   "source": [
    "####  Northern Hemisphere - Wind Speed (mph) vs. Latitude Linear Regression"
   ]
  },
  {
   "cell_type": "code",
   "execution_count": 27,
   "metadata": {},
   "outputs": [
    {
     "data": {
      "image/png": "[encoded data removed]",
      "text/plain": [
       "<Figure size 432x288 with 1 Axes>"
      ]
     },
     "metadata": {
      "needs_background": "light"
     },
     "output_type": "display_data"
    }
   ],
   "source": [
    "x_values = north_df[\"Wind_Speed\"]\n",
    "y_values = north_df[\"Lat\"]\n",
    "(slope, intercept, rvalue, pvalue, stderr) = linregress(x_values, y_values)\n",
    "regress_values = x_values * slope + intercept\n",
    "line_eq = \"y = \" + str(round(slope,2)) + \"x + \" + str(round(intercept,2))\n",
    "plt.scatter(x_values,y_values)\n",
    "plt.plot(x_values,regress_values,\"r-\")\n",
    "plt.annotate(line_eq,(6,10),fontsize=15,color=\"red\")\n",
    "plt.xlabel('Wind Speed (MPH)')\n",
    "plt.ylabel('Latitude')\n",
    "plt.show()"
   ]
  },
  {
   "cell_type": "markdown",
   "metadata": {},
   "source": [
    "####  Southern Hemisphere - Wind Speed (mph) vs. Latitude Linear Regression"
   ]
  },
  {
   "cell_type": "code",
   "execution_count": 28,
   "metadata": {},
   "outputs": [
    {
     "data": {
      "image/png": "[encoded data removed]",
      "text/plain": [
       "<Figure size 432x288 with 1 Axes>"
      ]
     },
     "metadata": {
      "needs_background": "light"
     },
     "output_type": "display_data"
    }
   ],
   "source": [
    "x_values = south_df[\"Wind_Speed\"]\n",
    "y_values = south_df[\"Lat\"]\n",
    "(slope, intercept, rvalue, pvalue, stderr) = linregress(x_values, y_values)\n",
    "regress_values = x_values * slope + intercept\n",
    "line_eq = \"y = \" + str(round(slope,2)) + \"x + \" + str(round(intercept,2))\n",
    "plt.scatter(x_values,y_values)\n",
    "plt.plot(x_values,regress_values,\"r-\")\n",
    "plt.annotate(line_eq,(6,10),fontsize=15,color=\"red\")\n",
    "plt.xlabel('Wind Speed (MPH)')\n",
    "plt.ylabel('Latitude')\n",
    "plt.show()"
   ]
  },
  {
   "cell_type": "code",
   "execution_count": null,
   "metadata": {},
   "outputs": [],
   "source": []
  },
  {
   "cell_type": "code",
   "execution_count": null,
   "metadata": {},
   "outputs": [],
   "source": []
  }
 ],
 "metadata": {
  "anaconda-cloud": {},
  "kernel_info": {
   "name": "python3"
  },
  "kernelspec": {
   "display_name": "Python 3",
   "language": "python",
   "name": "python3"
  },
  "language_info": {
   "codemirror_mode": {
    "name": "ipython",
    "version": 3
   },
   "file_extension": ".py",
   "mimetype": "text/x-python",
   "name": "python",
   "nbconvert_exporter": "python",
   "pygments_lexer": "ipython3",
   "version": "3.7.4"
  },
  "latex_envs": {
   "LaTeX_envs_menu_present": true,
   "autoclose": false,
   "autocomplete": true,
   "bibliofile": "biblio.bib",
   "cite_by": "apalike",
   "current_citInitial": 1,
   "eqLabelWithNumbers": true,
   "eqNumInitial": 1,
   "hotkeys": {
    "equation": "Ctrl-E",
    "itemize": "Ctrl-I"
   },
   "labels_anchors": false,
   "latex_user_defs": false,
   "report_style_numbering": false,
   "user_envs_cfg": false
  },
  "nteract": {
   "version": "0.12.3"
  }
 },
 "nbformat": 4,
 "nbformat_minor": 2
}
