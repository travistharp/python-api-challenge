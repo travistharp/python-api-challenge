{
 "cells": [
  {
   "cell_type": "markdown",
   "metadata": {},
   "source": [
    "# WeatherPy\n",
    "----\n",
    "\n",
    "#### Note\n",
    "* Instructions have been included for each segment. You do not have to follow them exactly, but they are included to help you think through the steps."
   ]
  },
  {
   "cell_type": "code",
   "execution_count": 4,
   "metadata": {
    "scrolled": true
   },
   "outputs": [],
   "source": [
    "# Dependencies and Setup\n",
    "import matplotlib.pyplot as plt\n",
    "import pandas as pd\n",
    "import numpy as np\n",
    "import requests\n",
    "import time\n",
    "from scipy.stats import linregress\n",
    "\n",
    "# Import API key\n",
    "from api_keys import weather_api_key\n",
    "\n",
    "# Incorporated citipy to determine city based on latitude and longitude\n",
    "from citipy import citipy\n",
    "\n",
    "# Output File (CSV)\n",
    "output_data_file = \"output_data/cities.csv\"\n",
    "\n",
    "# Range of latitudes and longitudes\n",
    "lat_range = (-90, 90)\n",
    "lng_range = (-180, 180)"
   ]
  },
  {
   "cell_type": "markdown",
   "metadata": {},
   "source": [
    "## Generate Cities List"
   ]
  },
  {
   "cell_type": "code",
   "execution_count": 5,
   "metadata": {},
   "outputs": [
    {
     "name": "stdout",
     "output_type": "stream",
     "text": [
      "78\n"
     ]
    }
   ],
   "source": [
    "# List for holding lat_lngs and cities\n",
    "lat_lngs = []\n",
    "cities = []\n",
    "\n",
    "# Create a set of random lat and lng combinations\n",
    "lats = np.random.uniform(low=-90.000, high=90.000, size=100)\n",
    "lngs = np.random.uniform(low=-180.000, high=180.000, size=100)\n",
    "lat_lngs = zip(lats, lngs)\n",
    "\n",
    "# Identify nearest city for each lat, lng combination\n",
    "for lat_lng in lat_lngs:\n",
    "    city = citipy.nearest_city(lat_lng[0], lat_lng[1]).city_name\n",
    "    \n",
    "    # If the city is unique, then add it to a our cities list\n",
    "    if city not in cities:\n",
    "        cities.append(city)\n",
    "\n",
    "#capitalize the cities\n",
    "cities = [c.title() for c in cities]\n",
    "        \n",
    "# Print the city count to confirm sufficient count\n",
    "\n",
    "print (len(cities))\n"
   ]
  },
  {
   "cell_type": "code",
   "execution_count": 6,
   "metadata": {},
   "outputs": [
    {
     "name": "stdout",
     "output_type": "stream",
     "text": [
      "['Ribeira Grande', 'Avarua', 'Salou', 'Namibe', 'New Norfolk', 'Fare', 'Vaini', 'Provideniya', 'Port Alfred', 'Ajdabiya', 'Hobart', 'Sabya', 'Sitka', 'Punta Arenas', 'Butaritari', 'Kawana Waters', 'Torbay', 'Saint-Pierre', 'Faya', 'Narsaq', 'Khatanga', 'Kruisfontein', 'Rikitea', 'Port Shepstone', 'Bluff', 'Bracebridge', 'Liaocheng', 'Umzimvubu', 'Pinega', 'Castro', 'Krasnoselkup', 'Boralday', 'Illoqqortoormiut', 'Esperance', 'Pevek', 'Natal', 'Buariki', 'Ayan', 'Dikson', 'Bajil', 'Cherskiy', 'Saleaula', 'Ushuaia', 'Hithadhoo', 'Cape Town', 'Kousseri', 'Raudeberg', 'Ponta Do Sol', 'Shelabolikha', 'Strezhevoy', 'Tumannyy', 'Taolanaro', 'Atuona', 'Puerto Ayora', 'Lomza', 'Saint-Philippe', 'Tahe', 'Amderma', 'Sungaipenuh', 'Cagayan De Tawi-Tawi', 'Mataura', 'Georgetown', 'Troitsko-Pechorsk', 'Tartki', 'Sioux Lookout', 'Karamea', 'Longyearbyen', 'Ulaanbaatar', 'San Rafael', 'Beloha', 'Arraial Do Cabo', 'Hilo', 'Yumen', 'Paamiut', 'Ustka', 'Busselton', 'Rawson', 'Saskylakh']\n"
     ]
    }
   ],
   "source": [
    "#display the list of cities\n",
    "print (cities)"
   ]
  },
  {
   "cell_type": "markdown",
   "metadata": {},
   "source": [
    "### Perform API Calls\n",
    "* Perform a weather check on each city using a series of successive API calls.\n",
    "* Include a print log of each city as it'sbeing processed (with the city number and city name).\n"
   ]
  },
  {
   "cell_type": "code",
   "execution_count": 7,
   "metadata": {},
   "outputs": [
    {
     "name": "stdout",
     "output_type": "stream",
     "text": [
      "Ribeira Grande Complete - 1 of 78\n",
      "Avarua Complete - 2 of 78\n",
      "Salou Complete - 3 of 78\n",
      "Namibe Complete - 4 of 78\n",
      "New Norfolk Complete - 5 of 78\n",
      "Fare Complete - 6 of 78\n",
      "Vaini Complete - 7 of 78\n",
      "Provideniya Complete - 8 of 78\n",
      "Port Alfred Complete - 9 of 78\n",
      "Ajdabiya Complete - 10 of 78\n",
      "Hobart Complete - 11 of 78\n",
      "Sabya Complete - 12 of 78\n",
      "Sitka Complete - 13 of 78\n",
      "Punta Arenas Complete - 14 of 78\n",
      "Butaritari Complete - 15 of 78\n",
      "Kawana Waters Data Missing!!!............16 of 78\n",
      "Torbay Complete - 17 of 78\n",
      "Saint-Pierre Complete - 18 of 78\n",
      "Faya Complete - 19 of 78\n",
      "Narsaq Complete - 20 of 78\n",
      "Khatanga Complete - 21 of 78\n",
      "Kruisfontein Complete - 22 of 78\n",
      "Rikitea Complete - 23 of 78\n",
      "Port Shepstone Complete - 24 of 78\n",
      "Bluff Complete - 25 of 78\n",
      "Bracebridge Complete - 26 of 78\n",
      "Liaocheng Complete - 27 of 78\n",
      "Umzimvubu Data Missing!!!............28 of 78\n",
      "Pinega Complete - 29 of 78\n",
      "Castro Complete - 30 of 78\n",
      "Krasnoselkup Complete - 31 of 78\n",
      "Boralday Complete - 32 of 78\n",
      "Illoqqortoormiut Data Missing!!!............33 of 78\n",
      "Esperance Complete - 34 of 78\n",
      "Pevek Complete - 35 of 78\n",
      "Natal Complete - 36 of 78\n",
      "Buariki Data Missing!!!............37 of 78\n",
      "Ayan Complete - 38 of 78\n",
      "Dikson Complete - 39 of 78\n",
      "Bajil Complete - 40 of 78\n",
      "Cherskiy Complete - 41 of 78\n",
      "Saleaula Data Missing!!!............42 of 78\n",
      "Ushuaia Complete - 43 of 78\n",
      "Hithadhoo Complete - 44 of 78\n",
      "Cape Town Complete - 45 of 78\n",
      "Kousseri Complete - 46 of 78\n",
      "Raudeberg Complete - 47 of 78\n",
      "Ponta Do Sol Complete - 48 of 78\n",
      "Shelabolikha Complete - 49 of 78\n",
      "Strezhevoy Complete - 50 of 78\n",
      "Tumannyy Data Missing!!!............51 of 78\n",
      "Taolanaro Data Missing!!!............52 of 78\n",
      "Atuona Complete - 53 of 78\n",
      "Puerto Ayora Complete - 54 of 78\n",
      "Lomza Complete - 55 of 78\n",
      "Saint-Philippe Complete - 56 of 78\n",
      "Tahe Complete - 57 of 78\n",
      "Amderma Data Missing!!!............58 of 78\n",
      "Sungaipenuh Complete - 59 of 78\n",
      "Cagayan De Tawi-Tawi Data Missing!!!............60 of 78\n",
      "Mataura Complete - 61 of 78\n",
      "Georgetown Complete - 62 of 78\n",
      "Troitsko-Pechorsk Complete - 63 of 78\n",
      "Tartki Data Missing!!!............64 of 78\n",
      "Sioux Lookout Complete - 65 of 78\n",
      "Karamea Data Missing!!!............66 of 78\n",
      "Longyearbyen Complete - 67 of 78\n",
      "Ulaanbaatar Complete - 68 of 78\n",
      "San Rafael Complete - 69 of 78\n",
      "Beloha Complete - 70 of 78\n",
      "Arraial Do Cabo Complete - 71 of 78\n",
      "Hilo Complete - 72 of 78\n",
      "Yumen Complete - 73 of 78\n",
      "Paamiut Complete - 74 of 78\n",
      "Ustka Complete - 75 of 78\n",
      "Busselton Complete - 76 of 78\n",
      "Rawson Complete - 77 of 78\n",
      "Saskylakh Complete - 78 of 78\n",
      "Complete\n"
     ]
    }
   ],
   "source": [
    "# url information\n",
    "url = \"http://api.openweathermap.org/data/2.5/weather?\"\n",
    "units = \"imperial\"\n",
    "\n",
    "# query url\n",
    "query_url = f\"{url}appid={weather_api_key}&units={units}&q=\"\n",
    "\n",
    "#create lists for the desired information\n",
    "lat = []\n",
    "lon = []\n",
    "temp = []\n",
    "humidity = []\n",
    "wind = []\n",
    "cloud = []\n",
    "i=0\n",
    "#request information from the api\n",
    "for city in cities:\n",
    "    response = requests.get(query_url + city).json()\n",
    "    i=i+1\n",
    "    try:\n",
    "        lon.append(response['coord']['lon'])\n",
    "        lat.append(response['coord']['lat'])\n",
    "        temp.append(response['main']['temp'])\n",
    "        humidity.append(response['main']['humidity'])\n",
    "        wind.append(response['wind']['speed'])\n",
    "        cloud.append(response['clouds']['all'])\n",
    "        print(f\"{city} Complete - {i} of {len(cities)}\")\n",
    "        time.sleep(1)\n",
    "        \n",
    "    except (KeyError, IndexError):\n",
    "        print(f\"{city} Data Missing!!!............{i} of {len(cities)}\")\n",
    "        lon.append(None)\n",
    "        lat.append(None)\n",
    "        temp.append(None)\n",
    "        humidity.append(None)\n",
    "        wind.append(None)\n",
    "        cloud.append(None)\n",
    "\n",
    "        \n",
    "#track the number of calls and responses        \n",
    "    if i == len(cities):\n",
    "        print(f\"Complete\") \n",
    "    "
   ]
  },
  {
   "cell_type": "code",
   "execution_count": 12,
   "metadata": {},
   "outputs": [],
   "source": [
    "#create a dictionary from all the gathered lists\n",
    "city_dict = {\n",
    "    \"City\": cities,\n",
    "    \"Lat\": lat,\n",
    "    \"Lon\": lon,\n",
    "    \"Temp\": temp,\n",
    "    \"Humidity\": humidity,\n",
    "    \"Wind_Speed\": wind,\n",
    "    \"Cloudiness\": cloud\n",
    "}"
   ]
  },
  {
   "cell_type": "markdown",
   "metadata": {},
   "source": [
    "### Convert Raw Data to DataFrame\n",
    "* Export the city data into a .csv.\n",
    "* Display the DataFrame"
   ]
  },
  {
   "cell_type": "code",
   "execution_count": 13,
   "metadata": {},
   "outputs": [
    {
     "data": {
      "text/html": [
       "<div>\n",
       "<style scoped>\n",
       "    .dataframe tbody tr th:only-of-type {\n",
       "        vertical-align: middle;\n",
       "    }\n",
       "\n",
       "    .dataframe tbody tr th {\n",
       "        vertical-align: top;\n",
       "    }\n",
       "\n",
       "    .dataframe thead th {\n",
       "        text-align: right;\n",
       "    }\n",
       "</style>\n",
       "<table border=\"1\" class=\"dataframe\">\n",
       "  <thead>\n",
       "    <tr style=\"text-align: right;\">\n",
       "      <th></th>\n",
       "      <th>City</th>\n",
       "      <th>Lat</th>\n",
       "      <th>Lon</th>\n",
       "      <th>Temp</th>\n",
       "      <th>Humidity</th>\n",
       "      <th>Wind_Speed</th>\n",
       "      <th>Cloudiness</th>\n",
       "    </tr>\n",
       "  </thead>\n",
       "  <tbody>\n",
       "    <tr>\n",
       "      <td>0</td>\n",
       "      <td>Miri</td>\n",
       "      <td>4.41</td>\n",
       "      <td>114.01</td>\n",
       "      <td>80.38</td>\n",
       "      <td>88.0</td>\n",
       "      <td>4.70</td>\n",
       "      <td>75.0</td>\n",
       "    </tr>\n",
       "    <tr>\n",
       "      <td>1</td>\n",
       "      <td>Kalmunai</td>\n",
       "      <td>7.42</td>\n",
       "      <td>81.82</td>\n",
       "      <td>79.90</td>\n",
       "      <td>71.0</td>\n",
       "      <td>7.31</td>\n",
       "      <td>14.0</td>\n",
       "    </tr>\n",
       "    <tr>\n",
       "      <td>2</td>\n",
       "      <td>Yellowknife</td>\n",
       "      <td>62.46</td>\n",
       "      <td>-114.35</td>\n",
       "      <td>0.54</td>\n",
       "      <td>64.0</td>\n",
       "      <td>9.17</td>\n",
       "      <td>40.0</td>\n",
       "    </tr>\n",
       "    <tr>\n",
       "      <td>3</td>\n",
       "      <td>Carnarvon</td>\n",
       "      <td>-24.87</td>\n",
       "      <td>113.63</td>\n",
       "      <td>84.20</td>\n",
       "      <td>62.0</td>\n",
       "      <td>14.99</td>\n",
       "      <td>0.0</td>\n",
       "    </tr>\n",
       "    <tr>\n",
       "      <td>4</td>\n",
       "      <td>Ribeira Grande</td>\n",
       "      <td>38.52</td>\n",
       "      <td>-28.70</td>\n",
       "      <td>62.60</td>\n",
       "      <td>93.0</td>\n",
       "      <td>17.22</td>\n",
       "      <td>20.0</td>\n",
       "    </tr>\n",
       "    <tr>\n",
       "      <td>5</td>\n",
       "      <td>Busselton</td>\n",
       "      <td>-33.65</td>\n",
       "      <td>115.33</td>\n",
       "      <td>55.62</td>\n",
       "      <td>50.0</td>\n",
       "      <td>15.43</td>\n",
       "      <td>0.0</td>\n",
       "    </tr>\n",
       "    <tr>\n",
       "      <td>6</td>\n",
       "      <td>Mana</td>\n",
       "      <td>5.66</td>\n",
       "      <td>-53.78</td>\n",
       "      <td>79.79</td>\n",
       "      <td>69.0</td>\n",
       "      <td>6.13</td>\n",
       "      <td>85.0</td>\n",
       "    </tr>\n",
       "    <tr>\n",
       "      <td>7</td>\n",
       "      <td>Port Elizabeth</td>\n",
       "      <td>-33.92</td>\n",
       "      <td>25.57</td>\n",
       "      <td>69.80</td>\n",
       "      <td>88.0</td>\n",
       "      <td>1.12</td>\n",
       "      <td>90.0</td>\n",
       "    </tr>\n",
       "    <tr>\n",
       "      <td>8</td>\n",
       "      <td>Pevek</td>\n",
       "      <td>69.70</td>\n",
       "      <td>170.31</td>\n",
       "      <td>-7.89</td>\n",
       "      <td>98.0</td>\n",
       "      <td>9.37</td>\n",
       "      <td>100.0</td>\n",
       "    </tr>\n",
       "    <tr>\n",
       "      <td>9</td>\n",
       "      <td>Atuona</td>\n",
       "      <td>-9.80</td>\n",
       "      <td>-139.03</td>\n",
       "      <td>82.04</td>\n",
       "      <td>76.0</td>\n",
       "      <td>14.94</td>\n",
       "      <td>30.0</td>\n",
       "    </tr>\n",
       "    <tr>\n",
       "      <td>10</td>\n",
       "      <td>Rikitea</td>\n",
       "      <td>-23.12</td>\n",
       "      <td>-134.97</td>\n",
       "      <td>80.17</td>\n",
       "      <td>79.0</td>\n",
       "      <td>17.52</td>\n",
       "      <td>100.0</td>\n",
       "    </tr>\n",
       "    <tr>\n",
       "      <td>11</td>\n",
       "      <td>Aksarka</td>\n",
       "      <td>66.56</td>\n",
       "      <td>67.80</td>\n",
       "      <td>13.26</td>\n",
       "      <td>88.0</td>\n",
       "      <td>11.16</td>\n",
       "      <td>0.0</td>\n",
       "    </tr>\n",
       "    <tr>\n",
       "      <td>12</td>\n",
       "      <td>Clyde River</td>\n",
       "      <td>70.47</td>\n",
       "      <td>-68.59</td>\n",
       "      <td>-14.80</td>\n",
       "      <td>68.0</td>\n",
       "      <td>9.17</td>\n",
       "      <td>75.0</td>\n",
       "    </tr>\n",
       "    <tr>\n",
       "      <td>13</td>\n",
       "      <td>Kapaa</td>\n",
       "      <td>22.08</td>\n",
       "      <td>-159.32</td>\n",
       "      <td>77.81</td>\n",
       "      <td>73.0</td>\n",
       "      <td>17.22</td>\n",
       "      <td>75.0</td>\n",
       "    </tr>\n",
       "    <tr>\n",
       "      <td>14</td>\n",
       "      <td>Khash</td>\n",
       "      <td>28.22</td>\n",
       "      <td>61.22</td>\n",
       "      <td>56.71</td>\n",
       "      <td>50.0</td>\n",
       "      <td>12.08</td>\n",
       "      <td>0.0</td>\n",
       "    </tr>\n",
       "    <tr>\n",
       "      <td>15</td>\n",
       "      <td>New Norfolk</td>\n",
       "      <td>-42.78</td>\n",
       "      <td>147.06</td>\n",
       "      <td>53.64</td>\n",
       "      <td>62.0</td>\n",
       "      <td>4.70</td>\n",
       "      <td>75.0</td>\n",
       "    </tr>\n",
       "    <tr>\n",
       "      <td>16</td>\n",
       "      <td>Vaini</td>\n",
       "      <td>-21.20</td>\n",
       "      <td>-175.20</td>\n",
       "      <td>84.20</td>\n",
       "      <td>79.0</td>\n",
       "      <td>8.05</td>\n",
       "      <td>20.0</td>\n",
       "    </tr>\n",
       "    <tr>\n",
       "      <td>17</td>\n",
       "      <td>Mataura</td>\n",
       "      <td>-46.19</td>\n",
       "      <td>168.86</td>\n",
       "      <td>57.00</td>\n",
       "      <td>87.0</td>\n",
       "      <td>11.99</td>\n",
       "      <td>100.0</td>\n",
       "    </tr>\n",
       "    <tr>\n",
       "      <td>18</td>\n",
       "      <td>Tsihombe</td>\n",
       "      <td>NaN</td>\n",
       "      <td>NaN</td>\n",
       "      <td>NaN</td>\n",
       "      <td>NaN</td>\n",
       "      <td>NaN</td>\n",
       "      <td>NaN</td>\n",
       "    </tr>\n",
       "    <tr>\n",
       "      <td>19</td>\n",
       "      <td>Poya</td>\n",
       "      <td>-21.35</td>\n",
       "      <td>165.15</td>\n",
       "      <td>79.93</td>\n",
       "      <td>76.0</td>\n",
       "      <td>3.40</td>\n",
       "      <td>100.0</td>\n",
       "    </tr>\n",
       "    <tr>\n",
       "      <td>20</td>\n",
       "      <td>Tuktoyaktuk</td>\n",
       "      <td>69.45</td>\n",
       "      <td>-133.04</td>\n",
       "      <td>-38.20</td>\n",
       "      <td>65.0</td>\n",
       "      <td>6.93</td>\n",
       "      <td>5.0</td>\n",
       "    </tr>\n",
       "    <tr>\n",
       "      <td>21</td>\n",
       "      <td>Puerto Ayora</td>\n",
       "      <td>-0.74</td>\n",
       "      <td>-90.35</td>\n",
       "      <td>84.00</td>\n",
       "      <td>62.0</td>\n",
       "      <td>9.17</td>\n",
       "      <td>20.0</td>\n",
       "    </tr>\n",
       "    <tr>\n",
       "      <td>22</td>\n",
       "      <td>Qaqortoq</td>\n",
       "      <td>60.72</td>\n",
       "      <td>-46.03</td>\n",
       "      <td>1.40</td>\n",
       "      <td>49.0</td>\n",
       "      <td>5.82</td>\n",
       "      <td>20.0</td>\n",
       "    </tr>\n",
       "    <tr>\n",
       "      <td>23</td>\n",
       "      <td>Hithadhoo</td>\n",
       "      <td>-0.60</td>\n",
       "      <td>73.08</td>\n",
       "      <td>83.41</td>\n",
       "      <td>71.0</td>\n",
       "      <td>7.00</td>\n",
       "      <td>85.0</td>\n",
       "    </tr>\n",
       "    <tr>\n",
       "      <td>24</td>\n",
       "      <td>Mahebourg</td>\n",
       "      <td>-20.41</td>\n",
       "      <td>57.70</td>\n",
       "      <td>80.78</td>\n",
       "      <td>94.0</td>\n",
       "      <td>8.05</td>\n",
       "      <td>75.0</td>\n",
       "    </tr>\n",
       "    <tr>\n",
       "      <td>25</td>\n",
       "      <td>Cabo San Lucas</td>\n",
       "      <td>22.89</td>\n",
       "      <td>-109.91</td>\n",
       "      <td>74.46</td>\n",
       "      <td>47.0</td>\n",
       "      <td>14.99</td>\n",
       "      <td>75.0</td>\n",
       "    </tr>\n",
       "    <tr>\n",
       "      <td>26</td>\n",
       "      <td>Kodiak</td>\n",
       "      <td>57.79</td>\n",
       "      <td>-152.41</td>\n",
       "      <td>30.20</td>\n",
       "      <td>39.0</td>\n",
       "      <td>8.05</td>\n",
       "      <td>1.0</td>\n",
       "    </tr>\n",
       "    <tr>\n",
       "      <td>27</td>\n",
       "      <td>Walvis Bay</td>\n",
       "      <td>-22.96</td>\n",
       "      <td>14.51</td>\n",
       "      <td>69.80</td>\n",
       "      <td>77.0</td>\n",
       "      <td>3.36</td>\n",
       "      <td>0.0</td>\n",
       "    </tr>\n",
       "    <tr>\n",
       "      <td>28</td>\n",
       "      <td>Ilhabela</td>\n",
       "      <td>-23.78</td>\n",
       "      <td>-45.36</td>\n",
       "      <td>75.27</td>\n",
       "      <td>85.0</td>\n",
       "      <td>23.55</td>\n",
       "      <td>100.0</td>\n",
       "    </tr>\n",
       "    <tr>\n",
       "      <td>29</td>\n",
       "      <td>Tidore</td>\n",
       "      <td>NaN</td>\n",
       "      <td>NaN</td>\n",
       "      <td>NaN</td>\n",
       "      <td>NaN</td>\n",
       "      <td>NaN</td>\n",
       "      <td>NaN</td>\n",
       "    </tr>\n",
       "  </tbody>\n",
       "</table>\n",
       "</div>"
      ],
      "text/plain": [
       "              City    Lat     Lon   Temp  Humidity  Wind_Speed  Cloudiness\n",
       "0             Miri   4.41  114.01  80.38      88.0        4.70        75.0\n",
       "1         Kalmunai   7.42   81.82  79.90      71.0        7.31        14.0\n",
       "2      Yellowknife  62.46 -114.35   0.54      64.0        9.17        40.0\n",
       "3        Carnarvon -24.87  113.63  84.20      62.0       14.99         0.0\n",
       "4   Ribeira Grande  38.52  -28.70  62.60      93.0       17.22        20.0\n",
       "5        Busselton -33.65  115.33  55.62      50.0       15.43         0.0\n",
       "6             Mana   5.66  -53.78  79.79      69.0        6.13        85.0\n",
       "7   Port Elizabeth -33.92   25.57  69.80      88.0        1.12        90.0\n",
       "8            Pevek  69.70  170.31  -7.89      98.0        9.37       100.0\n",
       "9           Atuona  -9.80 -139.03  82.04      76.0       14.94        30.0\n",
       "10         Rikitea -23.12 -134.97  80.17      79.0       17.52       100.0\n",
       "11         Aksarka  66.56   67.80  13.26      88.0       11.16         0.0\n",
       "12     Clyde River  70.47  -68.59 -14.80      68.0        9.17        75.0\n",
       "13           Kapaa  22.08 -159.32  77.81      73.0       17.22        75.0\n",
       "14           Khash  28.22   61.22  56.71      50.0       12.08         0.0\n",
       "15     New Norfolk -42.78  147.06  53.64      62.0        4.70        75.0\n",
       "16           Vaini -21.20 -175.20  84.20      79.0        8.05        20.0\n",
       "17         Mataura -46.19  168.86  57.00      87.0       11.99       100.0\n",
       "18        Tsihombe    NaN     NaN    NaN       NaN         NaN         NaN\n",
       "19            Poya -21.35  165.15  79.93      76.0        3.40       100.0\n",
       "20     Tuktoyaktuk  69.45 -133.04 -38.20      65.0        6.93         5.0\n",
       "21    Puerto Ayora  -0.74  -90.35  84.00      62.0        9.17        20.0\n",
       "22        Qaqortoq  60.72  -46.03   1.40      49.0        5.82        20.0\n",
       "23       Hithadhoo  -0.60   73.08  83.41      71.0        7.00        85.0\n",
       "24       Mahebourg -20.41   57.70  80.78      94.0        8.05        75.0\n",
       "25  Cabo San Lucas  22.89 -109.91  74.46      47.0       14.99        75.0\n",
       "26          Kodiak  57.79 -152.41  30.20      39.0        8.05         1.0\n",
       "27      Walvis Bay -22.96   14.51  69.80      77.0        3.36         0.0\n",
       "28        Ilhabela -23.78  -45.36  75.27      85.0       23.55       100.0\n",
       "29          Tidore    NaN     NaN    NaN       NaN         NaN         NaN"
      ]
     },
     "execution_count": 13,
     "metadata": {},
     "output_type": "execute_result"
    }
   ],
   "source": [
    "#create a dataframe from the dictionary\n",
    "city_df = pd.DataFrame(city_dict)\n",
    "\n",
    "city_df.head(30)"
   ]
  },
  {
   "cell_type": "code",
   "execution_count": 24,
   "metadata": {},
   "outputs": [
    {
     "data": {
      "text/plain": [
       "City           object\n",
       "Lat           float64\n",
       "Lon           float64\n",
       "Temp          float64\n",
       "Humidity      float64\n",
       "Wind_Speed    float64\n",
       "Cloudiness    float64\n",
       "dtype: object"
      ]
     },
     "execution_count": 24,
     "metadata": {},
     "output_type": "execute_result"
    }
   ],
   "source": [
    "#clean up the dataframe- verify datatypes\n",
    "city_df.dtypes\n"
   ]
  },
  {
   "cell_type": "code",
   "execution_count": 25,
   "metadata": {},
   "outputs": [],
   "source": [
    "#convert latitude, temp, humidity, wind speed, cloudiness to floating points\n",
    "#city_df[\"Lat\"] = pd.to_numeric(city_df[\"Lat\"], errors='coerce')\n",
    "#city_df[\"Temp\"] = pd.to_numeric(city_df[\"Temp\"], errors='coerce')\n",
    "#city_df[\"Humidity\"] = pd.to_numeric(city_df[\"Humidity\"], errors='coerce')\n",
    "#city_df[\"Wind_Speed\"] = pd.to_numeric(city_df[\"Wind_Speed\"], errors='coerce')\n",
    "#city_df[\"Cloudiness\"] = pd.to_numeric(city_df[\"Cloudiness\"], errors='coerce')\n",
    "#city_df.dtypes"
   ]
  },
  {
   "cell_type": "code",
   "execution_count": 28,
   "metadata": {},
   "outputs": [
    {
     "name": "stdout",
     "output_type": "stream",
     "text": [
      "71 complete sets of city data.\n"
     ]
    },
    {
     "data": {
      "text/html": [
       "<div>\n",
       "<style scoped>\n",
       "    .dataframe tbody tr th:only-of-type {\n",
       "        vertical-align: middle;\n",
       "    }\n",
       "\n",
       "    .dataframe tbody tr th {\n",
       "        vertical-align: top;\n",
       "    }\n",
       "\n",
       "    .dataframe thead th {\n",
       "        text-align: right;\n",
       "    }\n",
       "</style>\n",
       "<table border=\"1\" class=\"dataframe\">\n",
       "  <thead>\n",
       "    <tr style=\"text-align: right;\">\n",
       "      <th></th>\n",
       "      <th>City</th>\n",
       "      <th>Lat</th>\n",
       "      <th>Lon</th>\n",
       "      <th>Temp</th>\n",
       "      <th>Humidity</th>\n",
       "      <th>Wind_Speed</th>\n",
       "      <th>Cloudiness</th>\n",
       "    </tr>\n",
       "  </thead>\n",
       "  <tbody>\n",
       "    <tr>\n",
       "      <td>0</td>\n",
       "      <td>Miri</td>\n",
       "      <td>4.41</td>\n",
       "      <td>114.01</td>\n",
       "      <td>80.38</td>\n",
       "      <td>88.0</td>\n",
       "      <td>4.70</td>\n",
       "      <td>75.0</td>\n",
       "    </tr>\n",
       "    <tr>\n",
       "      <td>1</td>\n",
       "      <td>Kalmunai</td>\n",
       "      <td>7.42</td>\n",
       "      <td>81.82</td>\n",
       "      <td>79.90</td>\n",
       "      <td>71.0</td>\n",
       "      <td>7.31</td>\n",
       "      <td>14.0</td>\n",
       "    </tr>\n",
       "    <tr>\n",
       "      <td>2</td>\n",
       "      <td>Yellowknife</td>\n",
       "      <td>62.46</td>\n",
       "      <td>-114.35</td>\n",
       "      <td>0.54</td>\n",
       "      <td>64.0</td>\n",
       "      <td>9.17</td>\n",
       "      <td>40.0</td>\n",
       "    </tr>\n",
       "    <tr>\n",
       "      <td>3</td>\n",
       "      <td>Carnarvon</td>\n",
       "      <td>-24.87</td>\n",
       "      <td>113.63</td>\n",
       "      <td>84.20</td>\n",
       "      <td>62.0</td>\n",
       "      <td>14.99</td>\n",
       "      <td>0.0</td>\n",
       "    </tr>\n",
       "    <tr>\n",
       "      <td>4</td>\n",
       "      <td>Ribeira Grande</td>\n",
       "      <td>38.52</td>\n",
       "      <td>-28.70</td>\n",
       "      <td>62.60</td>\n",
       "      <td>93.0</td>\n",
       "      <td>17.22</td>\n",
       "      <td>20.0</td>\n",
       "    </tr>\n",
       "    <tr>\n",
       "      <td>5</td>\n",
       "      <td>Busselton</td>\n",
       "      <td>-33.65</td>\n",
       "      <td>115.33</td>\n",
       "      <td>55.62</td>\n",
       "      <td>50.0</td>\n",
       "      <td>15.43</td>\n",
       "      <td>0.0</td>\n",
       "    </tr>\n",
       "    <tr>\n",
       "      <td>6</td>\n",
       "      <td>Mana</td>\n",
       "      <td>5.66</td>\n",
       "      <td>-53.78</td>\n",
       "      <td>79.79</td>\n",
       "      <td>69.0</td>\n",
       "      <td>6.13</td>\n",
       "      <td>85.0</td>\n",
       "    </tr>\n",
       "    <tr>\n",
       "      <td>7</td>\n",
       "      <td>Port Elizabeth</td>\n",
       "      <td>-33.92</td>\n",
       "      <td>25.57</td>\n",
       "      <td>69.80</td>\n",
       "      <td>88.0</td>\n",
       "      <td>1.12</td>\n",
       "      <td>90.0</td>\n",
       "    </tr>\n",
       "    <tr>\n",
       "      <td>8</td>\n",
       "      <td>Pevek</td>\n",
       "      <td>69.70</td>\n",
       "      <td>170.31</td>\n",
       "      <td>-7.89</td>\n",
       "      <td>98.0</td>\n",
       "      <td>9.37</td>\n",
       "      <td>100.0</td>\n",
       "    </tr>\n",
       "    <tr>\n",
       "      <td>9</td>\n",
       "      <td>Atuona</td>\n",
       "      <td>-9.80</td>\n",
       "      <td>-139.03</td>\n",
       "      <td>82.04</td>\n",
       "      <td>76.0</td>\n",
       "      <td>14.94</td>\n",
       "      <td>30.0</td>\n",
       "    </tr>\n",
       "    <tr>\n",
       "      <td>10</td>\n",
       "      <td>Rikitea</td>\n",
       "      <td>-23.12</td>\n",
       "      <td>-134.97</td>\n",
       "      <td>80.17</td>\n",
       "      <td>79.0</td>\n",
       "      <td>17.52</td>\n",
       "      <td>100.0</td>\n",
       "    </tr>\n",
       "    <tr>\n",
       "      <td>11</td>\n",
       "      <td>Aksarka</td>\n",
       "      <td>66.56</td>\n",
       "      <td>67.80</td>\n",
       "      <td>13.26</td>\n",
       "      <td>88.0</td>\n",
       "      <td>11.16</td>\n",
       "      <td>0.0</td>\n",
       "    </tr>\n",
       "    <tr>\n",
       "      <td>12</td>\n",
       "      <td>Clyde River</td>\n",
       "      <td>70.47</td>\n",
       "      <td>-68.59</td>\n",
       "      <td>-14.80</td>\n",
       "      <td>68.0</td>\n",
       "      <td>9.17</td>\n",
       "      <td>75.0</td>\n",
       "    </tr>\n",
       "    <tr>\n",
       "      <td>13</td>\n",
       "      <td>Kapaa</td>\n",
       "      <td>22.08</td>\n",
       "      <td>-159.32</td>\n",
       "      <td>77.81</td>\n",
       "      <td>73.0</td>\n",
       "      <td>17.22</td>\n",
       "      <td>75.0</td>\n",
       "    </tr>\n",
       "    <tr>\n",
       "      <td>14</td>\n",
       "      <td>Khash</td>\n",
       "      <td>28.22</td>\n",
       "      <td>61.22</td>\n",
       "      <td>56.71</td>\n",
       "      <td>50.0</td>\n",
       "      <td>12.08</td>\n",
       "      <td>0.0</td>\n",
       "    </tr>\n",
       "    <tr>\n",
       "      <td>15</td>\n",
       "      <td>New Norfolk</td>\n",
       "      <td>-42.78</td>\n",
       "      <td>147.06</td>\n",
       "      <td>53.64</td>\n",
       "      <td>62.0</td>\n",
       "      <td>4.70</td>\n",
       "      <td>75.0</td>\n",
       "    </tr>\n",
       "    <tr>\n",
       "      <td>16</td>\n",
       "      <td>Vaini</td>\n",
       "      <td>-21.20</td>\n",
       "      <td>-175.20</td>\n",
       "      <td>84.20</td>\n",
       "      <td>79.0</td>\n",
       "      <td>8.05</td>\n",
       "      <td>20.0</td>\n",
       "    </tr>\n",
       "    <tr>\n",
       "      <td>17</td>\n",
       "      <td>Mataura</td>\n",
       "      <td>-46.19</td>\n",
       "      <td>168.86</td>\n",
       "      <td>57.00</td>\n",
       "      <td>87.0</td>\n",
       "      <td>11.99</td>\n",
       "      <td>100.0</td>\n",
       "    </tr>\n",
       "    <tr>\n",
       "      <td>19</td>\n",
       "      <td>Poya</td>\n",
       "      <td>-21.35</td>\n",
       "      <td>165.15</td>\n",
       "      <td>79.93</td>\n",
       "      <td>76.0</td>\n",
       "      <td>3.40</td>\n",
       "      <td>100.0</td>\n",
       "    </tr>\n",
       "    <tr>\n",
       "      <td>20</td>\n",
       "      <td>Tuktoyaktuk</td>\n",
       "      <td>69.45</td>\n",
       "      <td>-133.04</td>\n",
       "      <td>-38.20</td>\n",
       "      <td>65.0</td>\n",
       "      <td>6.93</td>\n",
       "      <td>5.0</td>\n",
       "    </tr>\n",
       "    <tr>\n",
       "      <td>21</td>\n",
       "      <td>Puerto Ayora</td>\n",
       "      <td>-0.74</td>\n",
       "      <td>-90.35</td>\n",
       "      <td>84.00</td>\n",
       "      <td>62.0</td>\n",
       "      <td>9.17</td>\n",
       "      <td>20.0</td>\n",
       "    </tr>\n",
       "    <tr>\n",
       "      <td>22</td>\n",
       "      <td>Qaqortoq</td>\n",
       "      <td>60.72</td>\n",
       "      <td>-46.03</td>\n",
       "      <td>1.40</td>\n",
       "      <td>49.0</td>\n",
       "      <td>5.82</td>\n",
       "      <td>20.0</td>\n",
       "    </tr>\n",
       "    <tr>\n",
       "      <td>23</td>\n",
       "      <td>Hithadhoo</td>\n",
       "      <td>-0.60</td>\n",
       "      <td>73.08</td>\n",
       "      <td>83.41</td>\n",
       "      <td>71.0</td>\n",
       "      <td>7.00</td>\n",
       "      <td>85.0</td>\n",
       "    </tr>\n",
       "    <tr>\n",
       "      <td>24</td>\n",
       "      <td>Mahebourg</td>\n",
       "      <td>-20.41</td>\n",
       "      <td>57.70</td>\n",
       "      <td>80.78</td>\n",
       "      <td>94.0</td>\n",
       "      <td>8.05</td>\n",
       "      <td>75.0</td>\n",
       "    </tr>\n",
       "    <tr>\n",
       "      <td>25</td>\n",
       "      <td>Cabo San Lucas</td>\n",
       "      <td>22.89</td>\n",
       "      <td>-109.91</td>\n",
       "      <td>74.46</td>\n",
       "      <td>47.0</td>\n",
       "      <td>14.99</td>\n",
       "      <td>75.0</td>\n",
       "    </tr>\n",
       "    <tr>\n",
       "      <td>26</td>\n",
       "      <td>Kodiak</td>\n",
       "      <td>57.79</td>\n",
       "      <td>-152.41</td>\n",
       "      <td>30.20</td>\n",
       "      <td>39.0</td>\n",
       "      <td>8.05</td>\n",
       "      <td>1.0</td>\n",
       "    </tr>\n",
       "    <tr>\n",
       "      <td>27</td>\n",
       "      <td>Walvis Bay</td>\n",
       "      <td>-22.96</td>\n",
       "      <td>14.51</td>\n",
       "      <td>69.80</td>\n",
       "      <td>77.0</td>\n",
       "      <td>3.36</td>\n",
       "      <td>0.0</td>\n",
       "    </tr>\n",
       "    <tr>\n",
       "      <td>28</td>\n",
       "      <td>Ilhabela</td>\n",
       "      <td>-23.78</td>\n",
       "      <td>-45.36</td>\n",
       "      <td>75.27</td>\n",
       "      <td>85.0</td>\n",
       "      <td>23.55</td>\n",
       "      <td>100.0</td>\n",
       "    </tr>\n",
       "    <tr>\n",
       "      <td>30</td>\n",
       "      <td>Nikolskoye</td>\n",
       "      <td>59.70</td>\n",
       "      <td>30.79</td>\n",
       "      <td>32.52</td>\n",
       "      <td>95.0</td>\n",
       "      <td>2.24</td>\n",
       "      <td>70.0</td>\n",
       "    </tr>\n",
       "    <tr>\n",
       "      <td>32</td>\n",
       "      <td>Aklavik</td>\n",
       "      <td>68.22</td>\n",
       "      <td>-135.01</td>\n",
       "      <td>-25.22</td>\n",
       "      <td>61.0</td>\n",
       "      <td>8.05</td>\n",
       "      <td>75.0</td>\n",
       "    </tr>\n",
       "  </tbody>\n",
       "</table>\n",
       "</div>"
      ],
      "text/plain": [
       "              City    Lat     Lon   Temp  Humidity  Wind_Speed  Cloudiness\n",
       "0             Miri   4.41  114.01  80.38      88.0        4.70        75.0\n",
       "1         Kalmunai   7.42   81.82  79.90      71.0        7.31        14.0\n",
       "2      Yellowknife  62.46 -114.35   0.54      64.0        9.17        40.0\n",
       "3        Carnarvon -24.87  113.63  84.20      62.0       14.99         0.0\n",
       "4   Ribeira Grande  38.52  -28.70  62.60      93.0       17.22        20.0\n",
       "5        Busselton -33.65  115.33  55.62      50.0       15.43         0.0\n",
       "6             Mana   5.66  -53.78  79.79      69.0        6.13        85.0\n",
       "7   Port Elizabeth -33.92   25.57  69.80      88.0        1.12        90.0\n",
       "8            Pevek  69.70  170.31  -7.89      98.0        9.37       100.0\n",
       "9           Atuona  -9.80 -139.03  82.04      76.0       14.94        30.0\n",
       "10         Rikitea -23.12 -134.97  80.17      79.0       17.52       100.0\n",
       "11         Aksarka  66.56   67.80  13.26      88.0       11.16         0.0\n",
       "12     Clyde River  70.47  -68.59 -14.80      68.0        9.17        75.0\n",
       "13           Kapaa  22.08 -159.32  77.81      73.0       17.22        75.0\n",
       "14           Khash  28.22   61.22  56.71      50.0       12.08         0.0\n",
       "15     New Norfolk -42.78  147.06  53.64      62.0        4.70        75.0\n",
       "16           Vaini -21.20 -175.20  84.20      79.0        8.05        20.0\n",
       "17         Mataura -46.19  168.86  57.00      87.0       11.99       100.0\n",
       "19            Poya -21.35  165.15  79.93      76.0        3.40       100.0\n",
       "20     Tuktoyaktuk  69.45 -133.04 -38.20      65.0        6.93         5.0\n",
       "21    Puerto Ayora  -0.74  -90.35  84.00      62.0        9.17        20.0\n",
       "22        Qaqortoq  60.72  -46.03   1.40      49.0        5.82        20.0\n",
       "23       Hithadhoo  -0.60   73.08  83.41      71.0        7.00        85.0\n",
       "24       Mahebourg -20.41   57.70  80.78      94.0        8.05        75.0\n",
       "25  Cabo San Lucas  22.89 -109.91  74.46      47.0       14.99        75.0\n",
       "26          Kodiak  57.79 -152.41  30.20      39.0        8.05         1.0\n",
       "27      Walvis Bay -22.96   14.51  69.80      77.0        3.36         0.0\n",
       "28        Ilhabela -23.78  -45.36  75.27      85.0       23.55       100.0\n",
       "30      Nikolskoye  59.70   30.79  32.52      95.0        2.24        70.0\n",
       "32         Aklavik  68.22 -135.01 -25.22      61.0        8.05        75.0"
      ]
     },
     "execution_count": 28,
     "metadata": {},
     "output_type": "execute_result"
    }
   ],
   "source": [
    "#drop \"na\" values\n",
    "city_df = city_df.dropna(how='any', axis=0)\n",
    "#verify nan dropped\n",
    "print (f\"{len(city_df.index)} complete sets of city data.\")\n",
    "city_df.head(30)"
   ]
  },
  {
   "cell_type": "code",
   "execution_count": 29,
   "metadata": {},
   "outputs": [],
   "source": [
    "#export dataframe to csv with option to drop the index\n",
    "city_df.to_csv(output_data_file, index=False)"
   ]
  },
  {
   "cell_type": "markdown",
   "metadata": {},
   "source": [
    "### Plotting the Data\n",
    "* Use proper labeling of the plots using plot titles (including date of analysis) and axes labels.\n",
    "* Save the plotted figures as .pngs."
   ]
  },
  {
   "cell_type": "markdown",
   "metadata": {},
   "source": [
    "#### Latitude vs. Temperature Plot"
   ]
  },
  {
   "cell_type": "code",
   "execution_count": 30,
   "metadata": {
    "scrolled": true
   },
   "outputs": [
    {
     "data": {
      "image/png": "[encoded data removed]",
      "text/plain": [
       "<Figure size 432x288 with 1 Axes>"
      ]
     },
     "metadata": {
      "needs_background": "light"
     },
     "output_type": "display_data"
    }
   ],
   "source": [
    "#scatter plot for latitude vs temperature\n",
    "plt.scatter(city_df[\"Lat\"], city_df[\"Temp\"])\n",
    "plt.xlabel('Latitude')\n",
    "plt.ylabel('Temperature (Deg F)')\n",
    "plt.show()"
   ]
  },
  {
   "cell_type": "markdown",
   "metadata": {},
   "source": [
    "#### Latitude vs. Humidity Plot"
   ]
  },
  {
   "cell_type": "code",
   "execution_count": 31,
   "metadata": {},
   "outputs": [
    {
     "data": {
      "image/png": "[encoded data removed]",
      "text/plain": [
       "<Figure size 432x288 with 1 Axes>"
      ]
     },
     "metadata": {
      "needs_background": "light"
     },
     "output_type": "display_data"
    }
   ],
   "source": [
    "#scatter plot for latitude vs temperature\n",
    "plt.scatter(city_df[\"Lat\"], city_df[\"Humidity\"])\n",
    "plt.xlabel('Latitude')\n",
    "plt.ylabel('Humidity (%)')\n",
    "plt.show()"
   ]
  },
  {
   "cell_type": "markdown",
   "metadata": {},
   "source": [
    "#### Latitude vs. Cloudiness Plot"
   ]
  },
  {
   "cell_type": "code",
   "execution_count": 32,
   "metadata": {},
   "outputs": [
    {
     "data": {
      "image/png": "[encoded data removed]",
      "text/plain": [
       "<Figure size 432x288 with 1 Axes>"
      ]
     },
     "metadata": {
      "needs_background": "light"
     },
     "output_type": "display_data"
    }
   ],
   "source": [
    "#scatter plot for latitude vs temperature\n",
    "plt.scatter(city_df[\"Lat\"], city_df[\"Cloudiness\"])\n",
    "plt.xlabel('Latitude')\n",
    "plt.ylabel('Cloudiness (%)')\n",
    "plt.show()"
   ]
  },
  {
   "cell_type": "markdown",
   "metadata": {},
   "source": [
    "#### Latitude vs. Wind Speed Plot"
   ]
  },
  {
   "cell_type": "code",
   "execution_count": 33,
   "metadata": {},
   "outputs": [
    {
     "data": {
      "image/png": "[encoded data removed]",
      "text/plain": [
       "<Figure size 432x288 with 1 Axes>"
      ]
     },
     "metadata": {
      "needs_background": "light"
     },
     "output_type": "display_data"
    }
   ],
   "source": [
    "#scatter plot for latitude vs temperature\n",
    "plt.scatter(city_df[\"Lat\"], city_df[\"Wind_Speed\"])\n",
    "plt.xlabel('Latitude')\n",
    "plt.ylabel('Wind Speed (MPH)')\n",
    "plt.show()"
   ]
  },
  {
   "cell_type": "markdown",
   "metadata": {},
   "source": [
    "## Linear Regression"
   ]
  },
  {
   "cell_type": "code",
   "execution_count": 35,
   "metadata": {},
   "outputs": [],
   "source": [
    "# OPTIONAL: Create a function to create Linear Regression plots\n",
    "#(slope, intercept, rvalue, pvalue, stderr) = linregress(x_values, y_values)\n",
    "#regress_values = x_values * slope + intercept\n",
    "#line_eq = \"y = \" + str(round(slope,2)) + \"x + \" + str(round(intercept,2))"
   ]
  },
  {
   "cell_type": "code",
   "execution_count": 36,
   "metadata": {},
   "outputs": [
    {
     "data": {
      "text/html": [
       "<div>\n",
       "<style scoped>\n",
       "    .dataframe tbody tr th:only-of-type {\n",
       "        vertical-align: middle;\n",
       "    }\n",
       "\n",
       "    .dataframe tbody tr th {\n",
       "        vertical-align: top;\n",
       "    }\n",
       "\n",
       "    .dataframe thead th {\n",
       "        text-align: right;\n",
       "    }\n",
       "</style>\n",
       "<table border=\"1\" class=\"dataframe\">\n",
       "  <thead>\n",
       "    <tr style=\"text-align: right;\">\n",
       "      <th></th>\n",
       "      <th>City</th>\n",
       "      <th>Lat</th>\n",
       "      <th>Lon</th>\n",
       "      <th>Temp</th>\n",
       "      <th>Humidity</th>\n",
       "      <th>Wind_Speed</th>\n",
       "      <th>Cloudiness</th>\n",
       "    </tr>\n",
       "  </thead>\n",
       "  <tbody>\n",
       "    <tr>\n",
       "      <td>0</td>\n",
       "      <td>Miri</td>\n",
       "      <td>4.41</td>\n",
       "      <td>114.01</td>\n",
       "      <td>80.38</td>\n",
       "      <td>88.0</td>\n",
       "      <td>4.70</td>\n",
       "      <td>75.0</td>\n",
       "    </tr>\n",
       "    <tr>\n",
       "      <td>1</td>\n",
       "      <td>Kalmunai</td>\n",
       "      <td>7.42</td>\n",
       "      <td>81.82</td>\n",
       "      <td>79.90</td>\n",
       "      <td>71.0</td>\n",
       "      <td>7.31</td>\n",
       "      <td>14.0</td>\n",
       "    </tr>\n",
       "    <tr>\n",
       "      <td>2</td>\n",
       "      <td>Yellowknife</td>\n",
       "      <td>62.46</td>\n",
       "      <td>-114.35</td>\n",
       "      <td>0.54</td>\n",
       "      <td>64.0</td>\n",
       "      <td>9.17</td>\n",
       "      <td>40.0</td>\n",
       "    </tr>\n",
       "    <tr>\n",
       "      <td>4</td>\n",
       "      <td>Ribeira Grande</td>\n",
       "      <td>38.52</td>\n",
       "      <td>-28.70</td>\n",
       "      <td>62.60</td>\n",
       "      <td>93.0</td>\n",
       "      <td>17.22</td>\n",
       "      <td>20.0</td>\n",
       "    </tr>\n",
       "    <tr>\n",
       "      <td>6</td>\n",
       "      <td>Mana</td>\n",
       "      <td>5.66</td>\n",
       "      <td>-53.78</td>\n",
       "      <td>79.79</td>\n",
       "      <td>69.0</td>\n",
       "      <td>6.13</td>\n",
       "      <td>85.0</td>\n",
       "    </tr>\n",
       "  </tbody>\n",
       "</table>\n",
       "</div>"
      ],
      "text/plain": [
       "             City    Lat     Lon   Temp  Humidity  Wind_Speed  Cloudiness\n",
       "0            Miri   4.41  114.01  80.38      88.0        4.70        75.0\n",
       "1        Kalmunai   7.42   81.82  79.90      71.0        7.31        14.0\n",
       "2     Yellowknife  62.46 -114.35   0.54      64.0        9.17        40.0\n",
       "4  Ribeira Grande  38.52  -28.70  62.60      93.0       17.22        20.0\n",
       "6            Mana   5.66  -53.78  79.79      69.0        6.13        85.0"
      ]
     },
     "execution_count": 36,
     "metadata": {},
     "output_type": "execute_result"
    }
   ],
   "source": [
    "# Create Northern and Southern Hemisphere DataFrames\n",
    "north_df = city_df[city_df[\"Lat\"]>0]\n",
    "north_df.head()"
   ]
  },
  {
   "cell_type": "code",
   "execution_count": 37,
   "metadata": {},
   "outputs": [
    {
     "data": {
      "text/html": [
       "<div>\n",
       "<style scoped>\n",
       "    .dataframe tbody tr th:only-of-type {\n",
       "        vertical-align: middle;\n",
       "    }\n",
       "\n",
       "    .dataframe tbody tr th {\n",
       "        vertical-align: top;\n",
       "    }\n",
       "\n",
       "    .dataframe thead th {\n",
       "        text-align: right;\n",
       "    }\n",
       "</style>\n",
       "<table border=\"1\" class=\"dataframe\">\n",
       "  <thead>\n",
       "    <tr style=\"text-align: right;\">\n",
       "      <th></th>\n",
       "      <th>City</th>\n",
       "      <th>Lat</th>\n",
       "      <th>Lon</th>\n",
       "      <th>Temp</th>\n",
       "      <th>Humidity</th>\n",
       "      <th>Wind_Speed</th>\n",
       "      <th>Cloudiness</th>\n",
       "    </tr>\n",
       "  </thead>\n",
       "  <tbody>\n",
       "    <tr>\n",
       "      <td>3</td>\n",
       "      <td>Carnarvon</td>\n",
       "      <td>-24.87</td>\n",
       "      <td>113.63</td>\n",
       "      <td>84.20</td>\n",
       "      <td>62.0</td>\n",
       "      <td>14.99</td>\n",
       "      <td>0.0</td>\n",
       "    </tr>\n",
       "    <tr>\n",
       "      <td>5</td>\n",
       "      <td>Busselton</td>\n",
       "      <td>-33.65</td>\n",
       "      <td>115.33</td>\n",
       "      <td>55.62</td>\n",
       "      <td>50.0</td>\n",
       "      <td>15.43</td>\n",
       "      <td>0.0</td>\n",
       "    </tr>\n",
       "    <tr>\n",
       "      <td>7</td>\n",
       "      <td>Port Elizabeth</td>\n",
       "      <td>-33.92</td>\n",
       "      <td>25.57</td>\n",
       "      <td>69.80</td>\n",
       "      <td>88.0</td>\n",
       "      <td>1.12</td>\n",
       "      <td>90.0</td>\n",
       "    </tr>\n",
       "    <tr>\n",
       "      <td>9</td>\n",
       "      <td>Atuona</td>\n",
       "      <td>-9.80</td>\n",
       "      <td>-139.03</td>\n",
       "      <td>82.04</td>\n",
       "      <td>76.0</td>\n",
       "      <td>14.94</td>\n",
       "      <td>30.0</td>\n",
       "    </tr>\n",
       "    <tr>\n",
       "      <td>10</td>\n",
       "      <td>Rikitea</td>\n",
       "      <td>-23.12</td>\n",
       "      <td>-134.97</td>\n",
       "      <td>80.17</td>\n",
       "      <td>79.0</td>\n",
       "      <td>17.52</td>\n",
       "      <td>100.0</td>\n",
       "    </tr>\n",
       "  </tbody>\n",
       "</table>\n",
       "</div>"
      ],
      "text/plain": [
       "              City    Lat     Lon   Temp  Humidity  Wind_Speed  Cloudiness\n",
       "3        Carnarvon -24.87  113.63  84.20      62.0       14.99         0.0\n",
       "5        Busselton -33.65  115.33  55.62      50.0       15.43         0.0\n",
       "7   Port Elizabeth -33.92   25.57  69.80      88.0        1.12        90.0\n",
       "9           Atuona  -9.80 -139.03  82.04      76.0       14.94        30.0\n",
       "10         Rikitea -23.12 -134.97  80.17      79.0       17.52       100.0"
      ]
     },
     "execution_count": 37,
     "metadata": {},
     "output_type": "execute_result"
    }
   ],
   "source": [
    "south_df = city_df[city_df[\"Lat\"]<0]\n",
    "south_df.head()"
   ]
  },
  {
   "cell_type": "markdown",
   "metadata": {},
   "source": [
    "####  Northern Hemisphere - Max Temp vs. Latitude Linear Regression"
   ]
  },
  {
   "cell_type": "code",
   "execution_count": 38,
   "metadata": {},
   "outputs": [
    {
     "data": {
      "image/png": "[encoded data removed]",
      "text/plain": [
       "<Figure size 432x288 with 1 Axes>"
      ]
     },
     "metadata": {
      "needs_background": "light"
     },
     "output_type": "display_data"
    }
   ],
   "source": [
    "x_values = north_df[\"Temp\"]\n",
    "y_values = north_df[\"Lat\"]\n",
    "(slope, intercept, rvalue, pvalue, stderr) = linregress(x_values, y_values)\n",
    "regress_values = x_values * slope + intercept\n",
    "line_eq = \"y = \" + str(round(slope,2)) + \"x + \" + str(round(intercept,2))\n",
    "plt.scatter(x_values,y_values)\n",
    "plt.plot(x_values,regress_values,\"r-\")\n",
    "plt.annotate(line_eq,(6,10),fontsize=15,color=\"red\")\n",
    "plt.xlabel('Temperature (Deg F)')\n",
    "plt.ylabel('Latitude')\n",
    "plt.show()"
   ]
  },
  {
   "cell_type": "markdown",
   "metadata": {},
   "source": [
    "####  Southern Hemisphere - Max Temp vs. Latitude Linear Regression"
   ]
  },
  {
   "cell_type": "code",
   "execution_count": 39,
   "metadata": {},
   "outputs": [
    {
     "data": {
      "image/png": "[encoded data removed]",
      "text/plain": [
       "<Figure size 432x288 with 1 Axes>"
      ]
     },
     "metadata": {
      "needs_background": "light"
     },
     "output_type": "display_data"
    }
   ],
   "source": [
    "x_values = south_df[\"Temp\"]\n",
    "y_values = south_df[\"Lat\"]\n",
    "(slope, intercept, rvalue, pvalue, stderr) = linregress(x_values, y_values)\n",
    "regress_values = x_values * slope + intercept\n",
    "line_eq = \"y = \" + str(round(slope,2)) + \"x + \" + str(round(intercept,2))\n",
    "plt.scatter(x_values,y_values)\n",
    "plt.plot(x_values,regress_values,\"r-\")\n",
    "plt.annotate(line_eq,(6,10),fontsize=15,color=\"red\")\n",
    "plt.xlabel('Temperature (Deg F)')\n",
    "plt.ylabel('Latitude')\n",
    "plt.show()"
   ]
  },
  {
   "cell_type": "markdown",
   "metadata": {},
   "source": [
    "####  Northern Hemisphere - Humidity (%) vs. Latitude Linear Regression"
   ]
  },
  {
   "cell_type": "code",
   "execution_count": 40,
   "metadata": {},
   "outputs": [
    {
     "data": {
      "image/png": "[encoded data removed]",
      "text/plain": [
       "<Figure size 432x288 with 1 Axes>"
      ]
     },
     "metadata": {
      "needs_background": "light"
     },
     "output_type": "display_data"
    }
   ],
   "source": [
    "x_values = north_df[\"Humidity\"]\n",
    "y_values = north_df[\"Lat\"]\n",
    "(slope, intercept, rvalue, pvalue, stderr) = linregress(x_values, y_values)\n",
    "regress_values = x_values * slope + intercept\n",
    "line_eq = \"y = \" + str(round(slope,2)) + \"x + \" + str(round(intercept,2))\n",
    "plt.scatter(x_values,y_values)\n",
    "plt.plot(x_values,regress_values,\"r-\")\n",
    "plt.annotate(line_eq,(6,10),fontsize=15,color=\"red\")\n",
    "plt.xlabel('Humidity %')\n",
    "plt.ylabel('Latitude')\n",
    "plt.show()"
   ]
  },
  {
   "cell_type": "markdown",
   "metadata": {},
   "source": [
    "####  Southern Hemisphere - Humidity (%) vs. Latitude Linear Regression"
   ]
  },
  {
   "cell_type": "code",
   "execution_count": 41,
   "metadata": {},
   "outputs": [
    {
     "data": {
      "image/png": "[encoded data removed]",
      "text/plain": [
       "<Figure size 432x288 with 1 Axes>"
      ]
     },
     "metadata": {
      "needs_background": "light"
     },
     "output_type": "display_data"
    }
   ],
   "source": [
    "x_values = south_df[\"Humidity\"]\n",
    "y_values = south_df[\"Lat\"]\n",
    "(slope, intercept, rvalue, pvalue, stderr) = linregress(x_values, y_values)\n",
    "regress_values = x_values * slope + intercept\n",
    "line_eq = \"y = \" + str(round(slope,2)) + \"x + \" + str(round(intercept,2))\n",
    "plt.scatter(x_values,y_values)\n",
    "plt.plot(x_values,regress_values,\"r-\")\n",
    "plt.annotate(line_eq,(6,10),fontsize=15,color=\"red\")\n",
    "plt.xlabel('Humidity (%)')\n",
    "plt.ylabel('Latitude')\n",
    "plt.show()"
   ]
  },
  {
   "cell_type": "markdown",
   "metadata": {},
   "source": [
    "####  Northern Hemisphere - Cloudiness (%) vs. Latitude Linear Regression"
   ]
  },
  {
   "cell_type": "code",
   "execution_count": 42,
   "metadata": {},
   "outputs": [
    {
     "data": {
      "image/png": "[encoded data removed]",
      "text/plain": [
       "<Figure size 432x288 with 1 Axes>"
      ]
     },
     "metadata": {
      "needs_background": "light"
     },
     "output_type": "display_data"
    }
   ],
   "source": [
    "x_values = north_df[\"Cloudiness\"]\n",
    "y_values = north_df[\"Lat\"]\n",
    "(slope, intercept, rvalue, pvalue, stderr) = linregress(x_values, y_values)\n",
    "regress_values = x_values * slope + intercept\n",
    "line_eq = \"y = \" + str(round(slope,2)) + \"x + \" + str(round(intercept,2))\n",
    "plt.scatter(x_values,y_values)\n",
    "plt.plot(x_values,regress_values,\"r-\")\n",
    "plt.annotate(line_eq,(6,10),fontsize=15,color=\"red\")\n",
    "plt.xlabel('Cloudiness (%)')\n",
    "plt.ylabel('Latitude')\n",
    "plt.show()"
   ]
  },
  {
   "cell_type": "markdown",
   "metadata": {},
   "source": [
    "####  Southern Hemisphere - Cloudiness (%) vs. Latitude Linear Regression"
   ]
  },
  {
   "cell_type": "code",
   "execution_count": 43,
   "metadata": {},
   "outputs": [
    {
     "data": {
      "image/png": "[encoded data removed]",
      "text/plain": [
       "<Figure size 432x288 with 1 Axes>"
      ]
     },
     "metadata": {
      "needs_background": "light"
     },
     "output_type": "display_data"
    }
   ],
   "source": [
    "x_values = south_df[\"Cloudiness\"]\n",
    "y_values = south_df[\"Lat\"]\n",
    "(slope, intercept, rvalue, pvalue, stderr) = linregress(x_values, y_values)\n",
    "regress_values = x_values * slope + intercept\n",
    "line_eq = \"y = \" + str(round(slope,2)) + \"x + \" + str(round(intercept,2))\n",
    "plt.scatter(x_values,y_values)\n",
    "plt.plot(x_values,regress_values,\"r-\")\n",
    "plt.annotate(line_eq,(6,10),fontsize=15,color=\"red\")\n",
    "plt.xlabel('Cloudiness (%)')\n",
    "plt.ylabel('Latitude')\n",
    "plt.show()"
   ]
  },
  {
   "cell_type": "markdown",
   "metadata": {},
   "source": [
    "####  Northern Hemisphere - Wind Speed (mph) vs. Latitude Linear Regression"
   ]
  },
  {
   "cell_type": "code",
   "execution_count": 44,
   "metadata": {},
   "outputs": [
    {
     "data": {
      "image/png": "[encoded data removed]",
      "text/plain": [
       "<Figure size 432x288 with 1 Axes>"
      ]
     },
     "metadata": {
      "needs_background": "light"
     },
     "output_type": "display_data"
    }
   ],
   "source": [
    "x_values = north_df[\"Wind_Speed\"]\n",
    "y_values = north_df[\"Lat\"]\n",
    "(slope, intercept, rvalue, pvalue, stderr) = linregress(x_values, y_values)\n",
    "regress_values = x_values * slope + intercept\n",
    "line_eq = \"y = \" + str(round(slope,2)) + \"x + \" + str(round(intercept,2))\n",
    "plt.scatter(x_values,y_values)\n",
    "plt.plot(x_values,regress_values,\"r-\")\n",
    "plt.annotate(line_eq,(6,10),fontsize=15,color=\"red\")\n",
    "plt.xlabel('Wind Speed (MPH)')\n",
    "plt.ylabel('Latitude')\n",
    "plt.show()"
   ]
  },
  {
   "cell_type": "markdown",
   "metadata": {},
   "source": [
    "####  Southern Hemisphere - Wind Speed (mph) vs. Latitude Linear Regression"
   ]
  },
  {
   "cell_type": "code",
   "execution_count": 45,
   "metadata": {},
   "outputs": [
    {
     "data": {
      "image/png": "[encoded data removed]",
      "text/plain": [
       "<Figure size 432x288 with 1 Axes>"
      ]
     },
     "metadata": {
      "needs_background": "light"
     },
     "output_type": "display_data"
    }
   ],
   "source": [
    "x_values = south_df[\"Wind_Speed\"]\n",
    "y_values = south_df[\"Lat\"]\n",
    "(slope, intercept, rvalue, pvalue, stderr) = linregress(x_values, y_values)\n",
    "regress_values = x_values * slope + intercept\n",
    "line_eq = \"y = \" + str(round(slope,2)) + \"x + \" + str(round(intercept,2))\n",
    "plt.scatter(x_values,y_values)\n",
    "plt.plot(x_values,regress_values,\"r-\")\n",
    "plt.annotate(line_eq,(6,10),fontsize=15,color=\"red\")\n",
    "plt.xlabel('Wind Speed (MPH)')\n",
    "plt.ylabel('Latitude')\n",
    "plt.show()"
   ]
  },
  {
   "cell_type": "code",
   "execution_count": null,
   "metadata": {},
   "outputs": [],
   "source": []
  },
  {
   "cell_type": "code",
   "execution_count": null,
   "metadata": {},
   "outputs": [],
   "source": []
  }
 ],
 "metadata": {
  "anaconda-cloud": {},
  "kernel_info": {
   "name": "python3"
  },
  "kernelspec": {
   "display_name": "Python 3",
   "language": "python",
   "name": "python3"
  },
  "language_info": {
   "codemirror_mode": {
    "name": "ipython",
    "version": 3
   },
   "file_extension": ".py",
   "mimetype": "text/x-python",
   "name": "python",
   "nbconvert_exporter": "python",
   "pygments_lexer": "ipython3",
   "version": "3.7.4"
  },
  "latex_envs": {
   "LaTeX_envs_menu_present": true,
   "autoclose": false,
   "autocomplete": true,
   "bibliofile": "biblio.bib",
   "cite_by": "apalike",
   "current_citInitial": 1,
   "eqLabelWithNumbers": true,
   "eqNumInitial": 1,
   "hotkeys": {
    "equation": "Ctrl-E",
    "itemize": "Ctrl-I"
   },
   "labels_anchors": false,
   "latex_user_defs": false,
   "report_style_numbering": false,
   "user_envs_cfg": false
  },
  "nteract": {
   "version": "0.12.3"
  }
 },
 "nbformat": 4,
 "nbformat_minor": 2
}
