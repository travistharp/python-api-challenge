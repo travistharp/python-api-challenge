{
 "cells": [
  {
   "cell_type": "markdown",
   "metadata": {},
   "source": [
    "# WeatherPy\n",
    "----\n",
    "\n",
    "#### Note\n",
    "* Instructions have been included for each segment. You do not have to follow them exactly, but they are included to help you think through the steps."
   ]
  },
  {
   "cell_type": "code",
   "execution_count": 134,
   "metadata": {
    "scrolled": true
   },
   "outputs": [],
   "source": [
    "# Dependencies and Setup\n",
    "import matplotlib.pyplot as plt\n",
    "import pandas as pd\n",
    "import numpy as np\n",
    "import requests\n",
    "import time\n",
    "from scipy.stats import linregress\n",
    "\n",
    "# Import API key\n",
    "from api_keys import weather_api_key\n",
    "\n",
    "# Incorporated citipy to determine city based on latitude and longitude\n",
    "from citipy import citipy\n",
    "\n",
    "# Output File (CSV)\n",
    "output_data_file = \"output_data/cities.csv\"\n",
    "\n",
    "# Range of latitudes and longitudes\n",
    "lat_range = (-90, 90)\n",
    "lng_range = (-180, 180)"
   ]
  },
  {
   "cell_type": "markdown",
   "metadata": {},
   "source": [
    "## Generate Cities List"
   ]
  },
  {
   "cell_type": "code",
   "execution_count": 135,
   "metadata": {},
   "outputs": [
    {
     "name": "stdout",
     "output_type": "stream",
     "text": [
      "79\n"
     ]
    }
   ],
   "source": [
    "# List for holding lat_lngs and cities\n",
    "lat_lngs = []\n",
    "cities = []\n",
    "\n",
    "# Create a set of random lat and lng combinations\n",
    "lats = np.random.uniform(low=-90.000, high=90.000, size=100)\n",
    "lngs = np.random.uniform(low=-180.000, high=180.000, size=100)\n",
    "lat_lngs = zip(lats, lngs)\n",
    "\n",
    "# Identify nearest city for each lat, lng combination\n",
    "for lat_lng in lat_lngs:\n",
    "    city = citipy.nearest_city(lat_lng[0], lat_lng[1]).city_name\n",
    "    \n",
    "    # If the city is unique, then add it to a our cities list\n",
    "    if city not in cities:\n",
    "        cities.append(city)\n",
    "\n",
    "#capitalize the cities\n",
    "cities = [c.title() for c in cities]\n",
    "        \n",
    "# Print the city count to confirm sufficient count\n",
    "\n",
    "print (len(cities))\n"
   ]
  },
  {
   "cell_type": "code",
   "execution_count": 136,
   "metadata": {},
   "outputs": [
    {
     "name": "stdout",
     "output_type": "stream",
     "text": [
      "['Bambous Virieux', 'Sarmizegetusa', 'Portland', 'Bethel', 'Sao Filipe', 'Bredasdorp', 'Taolanaro', 'Ribeira Grande', 'Hofn', 'Geraldton', 'Ossora', 'Port Alfred', 'Puerto Ayora', 'Tam Ky', 'New Norfolk', 'Bam', 'Ushuaia', 'Blenheim', 'Luderitz', 'Albany', 'Chokurdakh', 'Olafsvik', 'Coihaique', 'Hermanus', 'Lesnyye Polyany', 'Bilma', 'Richards Bay', 'Hobart', 'Tsihombe', 'Kataysk', 'Falealupo', 'Port Elizabeth', 'Hasaki', 'Karratha', 'Jamestown', 'Santa Maria', 'Manta', 'Rikitea', 'Nome', 'Belushya Guba', 'Vila', 'Saint-Philippe', 'Nhulunbuy', 'Norman Wells', 'Torbay', 'Clyde River', 'Constantine', 'Mataura', 'Ratholo', 'Longyearbyen', 'Truth Or Consequences', 'Qaanaaq', 'Albion', 'Hualahuises', 'Avarua', 'Pangnirtung', 'Dingle', 'Tiksi', 'Alofi', 'Bubaque', 'Katsuura', 'Glendive', 'Oistins', 'Zhob', 'Barentsburg', 'Qaqortoq', 'Punta Arenas', 'Kibi', 'Vaini', 'Carbonia', 'Barrow', 'Lianzhou', 'Toguchin', 'Vao', 'Barawe', 'Kahului', 'Fairbanks', 'Cooma', 'Severo-Kurilsk']\n"
     ]
    }
   ],
   "source": [
    "#display the list of cities\n",
    "print (cities)"
   ]
  },
  {
   "cell_type": "markdown",
   "metadata": {},
   "source": [
    "### Perform API Calls\n",
    "* Perform a weather check on each city using a series of successive API calls.\n",
    "* Include a print log of each city as it'sbeing processed (with the city number and city name).\n"
   ]
  },
  {
   "cell_type": "code",
   "execution_count": 137,
   "metadata": {},
   "outputs": [
    {
     "name": "stdout",
     "output_type": "stream",
     "text": [
      "Bambous Virieux Complete - 1 of 79\n",
      "Sarmizegetusa Complete - 2 of 79\n",
      "Portland Complete - 3 of 79\n",
      "Bethel Complete - 4 of 79\n",
      "Sao Filipe Complete - 5 of 79\n",
      "Bredasdorp Complete - 6 of 79\n",
      "Taolanaro Data Missing!!!.......... - 7 of 79\n",
      "Ribeira Grande Complete - 8 of 79\n",
      "Hofn Complete - 9 of 79\n",
      "Geraldton Complete - 10 of 79\n",
      "Ossora Complete - 11 of 79\n",
      "Port Alfred Complete - 12 of 79\n",
      "Puerto Ayora Complete - 13 of 79\n",
      "Tam Ky Complete - 14 of 79\n",
      "New Norfolk Complete - 15 of 79\n",
      "Bam Complete - 16 of 79\n",
      "Ushuaia Complete - 17 of 79\n",
      "Blenheim Complete - 18 of 79\n",
      "Luderitz Complete - 19 of 79\n",
      "Albany Complete - 20 of 79\n",
      "Chokurdakh Complete - 21 of 79\n",
      "Olafsvik Complete - 22 of 79\n",
      "Coihaique Complete - 23 of 79\n",
      "Hermanus Complete - 24 of 79\n",
      "Lesnyye Polyany Complete - 25 of 79\n",
      "Bilma Complete - 26 of 79\n",
      "Richards Bay Complete - 27 of 79\n",
      "Hobart Complete - 28 of 79\n",
      "Tsihombe Data Missing!!!.......... - 29 of 79\n",
      "Kataysk Complete - 30 of 79\n",
      "Falealupo Data Missing!!!.......... - 31 of 79\n",
      "Port Elizabeth Complete - 32 of 79\n",
      "Hasaki Complete - 33 of 79\n",
      "Karratha Complete - 34 of 79\n",
      "Jamestown Complete - 35 of 79\n",
      "Santa Maria Complete - 36 of 79\n",
      "Manta Complete - 37 of 79\n",
      "Rikitea Complete - 38 of 79\n",
      "Nome Complete - 39 of 79\n",
      "Belushya Guba Data Missing!!!.......... - 40 of 79\n",
      "Vila Complete - 41 of 79\n",
      "Saint-Philippe Complete - 42 of 79\n",
      "Nhulunbuy Complete - 43 of 79\n",
      "Norman Wells Complete - 44 of 79\n",
      "Torbay Complete - 45 of 79\n",
      "Clyde River Complete - 46 of 79\n",
      "Constantine Complete - 47 of 79\n",
      "Mataura Complete - 48 of 79\n",
      "Ratholo Complete - 49 of 79\n",
      "Longyearbyen Complete - 50 of 79\n",
      "Truth Or Consequences Complete - 51 of 79\n",
      "Qaanaaq Complete - 52 of 79\n",
      "Albion Complete - 53 of 79\n",
      "Hualahuises Complete - 54 of 79\n",
      "Avarua Complete - 55 of 79\n",
      "Pangnirtung Complete - 56 of 79\n",
      "Dingle Complete - 57 of 79\n",
      "Tiksi Complete - 58 of 79\n",
      "Alofi Complete - 59 of 79\n",
      "Bubaque Complete - 60 of 79\n",
      "Katsuura Complete - 61 of 79\n",
      "Glendive Complete - 62 of 79\n",
      "Oistins Complete - 63 of 79\n",
      "Zhob Complete - 64 of 79\n",
      "Barentsburg Data Missing!!!.......... - 65 of 79\n",
      "Qaqortoq Complete - 66 of 79\n",
      "Punta Arenas Complete - 67 of 79\n",
      "Kibi Complete - 68 of 79\n",
      "Vaini Complete - 69 of 79\n",
      "Carbonia Complete - 70 of 79\n",
      "Barrow Complete - 71 of 79\n",
      "Lianzhou Complete - 72 of 79\n",
      "Toguchin Complete - 73 of 79\n",
      "Vao Complete - 74 of 79\n",
      "Barawe Data Missing!!!.......... - 75 of 79\n",
      "Kahului Complete - 76 of 79\n",
      "Fairbanks Complete - 77 of 79\n",
      "Cooma Complete - 78 of 79\n",
      "Severo-Kurilsk Complete - 79 of 79\n",
      "Complete\n"
     ]
    }
   ],
   "source": [
    "# url information\n",
    "url = \"http://api.openweathermap.org/data/2.5/weather?\"\n",
    "units = \"imperial\"\n",
    "\n",
    "# query url\n",
    "query_url = f\"{url}appid={weather_api_key}&units={units}&q=\"\n",
    "\n",
    "#create lists for the desired information\n",
    "lat = []\n",
    "temp = []\n",
    "humidity = []\n",
    "wind = []\n",
    "cloud = []\n",
    "i=0\n",
    "#request information from the api\n",
    "for city in cities:\n",
    "    response = requests.get(query_url + city).json()\n",
    "    i=i+1\n",
    "    try:\n",
    "        lat.append(response['coord']['lat'])\n",
    "        temp.append(response['main']['temp'])\n",
    "        humidity.append(response['main']['humidity'])\n",
    "        wind.append(response['wind']['speed'])\n",
    "        cloud.append(response['clouds']['all'])\n",
    "        print(f\"{city} Complete - {i} of {len(cities)}\")\n",
    "        time.sleep(1)\n",
    "        \n",
    "    except (KeyError, IndexError):\n",
    "        print(f\"{city} Data Missing!!!.......... - {i} of {len(cities)}\")\n",
    "        lat.append(None)\n",
    "        temp.append(None)\n",
    "        humidity.append(None)\n",
    "        wind.append(None)\n",
    "        cloud.append(None)\n",
    "\n",
    "        \n",
    "#track the number of calls and responses        \n",
    "    if i == len(cities):\n",
    "        print(f\"Complete\") \n",
    "    "
   ]
  },
  {
   "cell_type": "code",
   "execution_count": 138,
   "metadata": {},
   "outputs": [],
   "source": [
    "#create a dictionary from all the gathered lists\n",
    "city_dict = {\n",
    "    \"City\": cities,\n",
    "    \"Lat\": lat,\n",
    "    \"Temp\": temp,\n",
    "    \"Humidity\": humidity,\n",
    "    \"Wind_Speed\": wind,\n",
    "    \"Cloudiness\": cloud\n",
    "}"
   ]
  },
  {
   "cell_type": "markdown",
   "metadata": {},
   "source": [
    "### Convert Raw Data to DataFrame\n",
    "* Export the city data into a .csv.\n",
    "* Display the DataFrame"
   ]
  },
  {
   "cell_type": "code",
   "execution_count": 139,
   "metadata": {},
   "outputs": [
    {
     "data": {
      "text/html": [
       "<div>\n",
       "<style scoped>\n",
       "    .dataframe tbody tr th:only-of-type {\n",
       "        vertical-align: middle;\n",
       "    }\n",
       "\n",
       "    .dataframe tbody tr th {\n",
       "        vertical-align: top;\n",
       "    }\n",
       "\n",
       "    .dataframe thead th {\n",
       "        text-align: right;\n",
       "    }\n",
       "</style>\n",
       "<table border=\"1\" class=\"dataframe\">\n",
       "  <thead>\n",
       "    <tr style=\"text-align: right;\">\n",
       "      <th></th>\n",
       "      <th>City</th>\n",
       "      <th>Lat</th>\n",
       "      <th>Temp</th>\n",
       "      <th>Humidity</th>\n",
       "      <th>Wind_Speed</th>\n",
       "      <th>Cloudiness</th>\n",
       "    </tr>\n",
       "  </thead>\n",
       "  <tbody>\n",
       "    <tr>\n",
       "      <td>0</td>\n",
       "      <td>Bambous Virieux</td>\n",
       "      <td>-20.34</td>\n",
       "      <td>80.35</td>\n",
       "      <td>94.0</td>\n",
       "      <td>10.29</td>\n",
       "      <td>75.0</td>\n",
       "    </tr>\n",
       "    <tr>\n",
       "      <td>1</td>\n",
       "      <td>Sarmizegetusa</td>\n",
       "      <td>45.52</td>\n",
       "      <td>43.11</td>\n",
       "      <td>80.0</td>\n",
       "      <td>7.99</td>\n",
       "      <td>100.0</td>\n",
       "    </tr>\n",
       "    <tr>\n",
       "      <td>2</td>\n",
       "      <td>Portland</td>\n",
       "      <td>45.52</td>\n",
       "      <td>43.83</td>\n",
       "      <td>75.0</td>\n",
       "      <td>14.99</td>\n",
       "      <td>90.0</td>\n",
       "    </tr>\n",
       "    <tr>\n",
       "      <td>3</td>\n",
       "      <td>Bethel</td>\n",
       "      <td>41.37</td>\n",
       "      <td>53.98</td>\n",
       "      <td>37.0</td>\n",
       "      <td>14.99</td>\n",
       "      <td>1.0</td>\n",
       "    </tr>\n",
       "    <tr>\n",
       "      <td>4</td>\n",
       "      <td>Sao Filipe</td>\n",
       "      <td>14.90</td>\n",
       "      <td>76.93</td>\n",
       "      <td>47.0</td>\n",
       "      <td>17.58</td>\n",
       "      <td>0.0</td>\n",
       "    </tr>\n",
       "    <tr>\n",
       "      <td>5</td>\n",
       "      <td>Bredasdorp</td>\n",
       "      <td>-34.53</td>\n",
       "      <td>67.35</td>\n",
       "      <td>82.0</td>\n",
       "      <td>3.36</td>\n",
       "      <td>40.0</td>\n",
       "    </tr>\n",
       "    <tr>\n",
       "      <td>6</td>\n",
       "      <td>Taolanaro</td>\n",
       "      <td>NaN</td>\n",
       "      <td>NaN</td>\n",
       "      <td>NaN</td>\n",
       "      <td>NaN</td>\n",
       "      <td>NaN</td>\n",
       "    </tr>\n",
       "    <tr>\n",
       "      <td>7</td>\n",
       "      <td>Ribeira Grande</td>\n",
       "      <td>38.52</td>\n",
       "      <td>62.60</td>\n",
       "      <td>93.0</td>\n",
       "      <td>18.34</td>\n",
       "      <td>20.0</td>\n",
       "    </tr>\n",
       "    <tr>\n",
       "      <td>8</td>\n",
       "      <td>Hofn</td>\n",
       "      <td>64.25</td>\n",
       "      <td>35.60</td>\n",
       "      <td>59.0</td>\n",
       "      <td>23.04</td>\n",
       "      <td>75.0</td>\n",
       "    </tr>\n",
       "    <tr>\n",
       "      <td>9</td>\n",
       "      <td>Geraldton</td>\n",
       "      <td>-28.77</td>\n",
       "      <td>77.00</td>\n",
       "      <td>47.0</td>\n",
       "      <td>19.46</td>\n",
       "      <td>0.0</td>\n",
       "    </tr>\n",
       "    <tr>\n",
       "      <td>10</td>\n",
       "      <td>Ossora</td>\n",
       "      <td>59.24</td>\n",
       "      <td>-0.44</td>\n",
       "      <td>69.0</td>\n",
       "      <td>2.06</td>\n",
       "      <td>0.0</td>\n",
       "    </tr>\n",
       "    <tr>\n",
       "      <td>11</td>\n",
       "      <td>Port Alfred</td>\n",
       "      <td>-33.59</td>\n",
       "      <td>70.00</td>\n",
       "      <td>94.0</td>\n",
       "      <td>6.46</td>\n",
       "      <td>7.0</td>\n",
       "    </tr>\n",
       "    <tr>\n",
       "      <td>12</td>\n",
       "      <td>Puerto Ayora</td>\n",
       "      <td>-0.74</td>\n",
       "      <td>84.00</td>\n",
       "      <td>62.0</td>\n",
       "      <td>11.41</td>\n",
       "      <td>20.0</td>\n",
       "    </tr>\n",
       "    <tr>\n",
       "      <td>13</td>\n",
       "      <td>Tam Ky</td>\n",
       "      <td>15.57</td>\n",
       "      <td>77.00</td>\n",
       "      <td>83.0</td>\n",
       "      <td>6.93</td>\n",
       "      <td>40.0</td>\n",
       "    </tr>\n",
       "    <tr>\n",
       "      <td>14</td>\n",
       "      <td>New Norfolk</td>\n",
       "      <td>-42.78</td>\n",
       "      <td>51.60</td>\n",
       "      <td>62.0</td>\n",
       "      <td>8.05</td>\n",
       "      <td>75.0</td>\n",
       "    </tr>\n",
       "    <tr>\n",
       "      <td>15</td>\n",
       "      <td>Bam</td>\n",
       "      <td>29.11</td>\n",
       "      <td>66.63</td>\n",
       "      <td>25.0</td>\n",
       "      <td>8.52</td>\n",
       "      <td>0.0</td>\n",
       "    </tr>\n",
       "    <tr>\n",
       "      <td>16</td>\n",
       "      <td>Ushuaia</td>\n",
       "      <td>-54.80</td>\n",
       "      <td>57.20</td>\n",
       "      <td>50.0</td>\n",
       "      <td>17.22</td>\n",
       "      <td>75.0</td>\n",
       "    </tr>\n",
       "    <tr>\n",
       "      <td>17</td>\n",
       "      <td>Blenheim</td>\n",
       "      <td>-41.52</td>\n",
       "      <td>69.22</td>\n",
       "      <td>76.0</td>\n",
       "      <td>10.94</td>\n",
       "      <td>74.0</td>\n",
       "    </tr>\n",
       "    <tr>\n",
       "      <td>18</td>\n",
       "      <td>Luderitz</td>\n",
       "      <td>-26.65</td>\n",
       "      <td>69.80</td>\n",
       "      <td>83.0</td>\n",
       "      <td>9.17</td>\n",
       "      <td>15.0</td>\n",
       "    </tr>\n",
       "    <tr>\n",
       "      <td>19</td>\n",
       "      <td>Albany</td>\n",
       "      <td>42.60</td>\n",
       "      <td>55.00</td>\n",
       "      <td>30.0</td>\n",
       "      <td>16.11</td>\n",
       "      <td>20.0</td>\n",
       "    </tr>\n",
       "    <tr>\n",
       "      <td>20</td>\n",
       "      <td>Chokurdakh</td>\n",
       "      <td>70.63</td>\n",
       "      <td>-2.56</td>\n",
       "      <td>81.0</td>\n",
       "      <td>15.90</td>\n",
       "      <td>58.0</td>\n",
       "    </tr>\n",
       "    <tr>\n",
       "      <td>21</td>\n",
       "      <td>Olafsvik</td>\n",
       "      <td>64.89</td>\n",
       "      <td>33.91</td>\n",
       "      <td>67.0</td>\n",
       "      <td>21.97</td>\n",
       "      <td>100.0</td>\n",
       "    </tr>\n",
       "    <tr>\n",
       "      <td>22</td>\n",
       "      <td>Coihaique</td>\n",
       "      <td>-45.58</td>\n",
       "      <td>72.45</td>\n",
       "      <td>33.0</td>\n",
       "      <td>10.29</td>\n",
       "      <td>34.0</td>\n",
       "    </tr>\n",
       "    <tr>\n",
       "      <td>23</td>\n",
       "      <td>Hermanus</td>\n",
       "      <td>-34.42</td>\n",
       "      <td>70.36</td>\n",
       "      <td>85.0</td>\n",
       "      <td>5.99</td>\n",
       "      <td>0.0</td>\n",
       "    </tr>\n",
       "    <tr>\n",
       "      <td>24</td>\n",
       "      <td>Lesnyye Polyany</td>\n",
       "      <td>55.97</td>\n",
       "      <td>37.90</td>\n",
       "      <td>86.0</td>\n",
       "      <td>6.71</td>\n",
       "      <td>75.0</td>\n",
       "    </tr>\n",
       "    <tr>\n",
       "      <td>25</td>\n",
       "      <td>Bilma</td>\n",
       "      <td>18.69</td>\n",
       "      <td>77.23</td>\n",
       "      <td>12.0</td>\n",
       "      <td>9.08</td>\n",
       "      <td>34.0</td>\n",
       "    </tr>\n",
       "    <tr>\n",
       "      <td>26</td>\n",
       "      <td>Richards Bay</td>\n",
       "      <td>-28.78</td>\n",
       "      <td>74.98</td>\n",
       "      <td>76.0</td>\n",
       "      <td>19.37</td>\n",
       "      <td>100.0</td>\n",
       "    </tr>\n",
       "    <tr>\n",
       "      <td>27</td>\n",
       "      <td>Hobart</td>\n",
       "      <td>-42.88</td>\n",
       "      <td>51.75</td>\n",
       "      <td>62.0</td>\n",
       "      <td>8.05</td>\n",
       "      <td>75.0</td>\n",
       "    </tr>\n",
       "    <tr>\n",
       "      <td>28</td>\n",
       "      <td>Tsihombe</td>\n",
       "      <td>NaN</td>\n",
       "      <td>NaN</td>\n",
       "      <td>NaN</td>\n",
       "      <td>NaN</td>\n",
       "      <td>NaN</td>\n",
       "    </tr>\n",
       "    <tr>\n",
       "      <td>29</td>\n",
       "      <td>Kataysk</td>\n",
       "      <td>56.29</td>\n",
       "      <td>31.10</td>\n",
       "      <td>86.0</td>\n",
       "      <td>10.45</td>\n",
       "      <td>91.0</td>\n",
       "    </tr>\n",
       "  </tbody>\n",
       "</table>\n",
       "</div>"
      ],
      "text/plain": [
       "               City    Lat   Temp  Humidity  Wind_Speed  Cloudiness\n",
       "0   Bambous Virieux -20.34  80.35      94.0       10.29        75.0\n",
       "1     Sarmizegetusa  45.52  43.11      80.0        7.99       100.0\n",
       "2          Portland  45.52  43.83      75.0       14.99        90.0\n",
       "3            Bethel  41.37  53.98      37.0       14.99         1.0\n",
       "4        Sao Filipe  14.90  76.93      47.0       17.58         0.0\n",
       "5        Bredasdorp -34.53  67.35      82.0        3.36        40.0\n",
       "6         Taolanaro    NaN    NaN       NaN         NaN         NaN\n",
       "7    Ribeira Grande  38.52  62.60      93.0       18.34        20.0\n",
       "8              Hofn  64.25  35.60      59.0       23.04        75.0\n",
       "9         Geraldton -28.77  77.00      47.0       19.46         0.0\n",
       "10           Ossora  59.24  -0.44      69.0        2.06         0.0\n",
       "11      Port Alfred -33.59  70.00      94.0        6.46         7.0\n",
       "12     Puerto Ayora  -0.74  84.00      62.0       11.41        20.0\n",
       "13           Tam Ky  15.57  77.00      83.0        6.93        40.0\n",
       "14      New Norfolk -42.78  51.60      62.0        8.05        75.0\n",
       "15              Bam  29.11  66.63      25.0        8.52         0.0\n",
       "16          Ushuaia -54.80  57.20      50.0       17.22        75.0\n",
       "17         Blenheim -41.52  69.22      76.0       10.94        74.0\n",
       "18         Luderitz -26.65  69.80      83.0        9.17        15.0\n",
       "19           Albany  42.60  55.00      30.0       16.11        20.0\n",
       "20       Chokurdakh  70.63  -2.56      81.0       15.90        58.0\n",
       "21         Olafsvik  64.89  33.91      67.0       21.97       100.0\n",
       "22        Coihaique -45.58  72.45      33.0       10.29        34.0\n",
       "23         Hermanus -34.42  70.36      85.0        5.99         0.0\n",
       "24  Lesnyye Polyany  55.97  37.90      86.0        6.71        75.0\n",
       "25            Bilma  18.69  77.23      12.0        9.08        34.0\n",
       "26     Richards Bay -28.78  74.98      76.0       19.37       100.0\n",
       "27           Hobart -42.88  51.75      62.0        8.05        75.0\n",
       "28         Tsihombe    NaN    NaN       NaN         NaN         NaN\n",
       "29          Kataysk  56.29  31.10      86.0       10.45        91.0"
      ]
     },
     "execution_count": 139,
     "metadata": {},
     "output_type": "execute_result"
    }
   ],
   "source": [
    "#create a dataframe from the dictionary\n",
    "city_df = pd.DataFrame(city_dict)\n",
    "\n",
    "city_df.head(30)"
   ]
  },
  {
   "cell_type": "code",
   "execution_count": 140,
   "metadata": {},
   "outputs": [
    {
     "data": {
      "text/plain": [
       "City           object\n",
       "Lat           float64\n",
       "Temp          float64\n",
       "Humidity      float64\n",
       "Wind_Speed    float64\n",
       "Cloudiness    float64\n",
       "dtype: object"
      ]
     },
     "execution_count": 140,
     "metadata": {},
     "output_type": "execute_result"
    }
   ],
   "source": [
    "#clean up the dataframe- verify datatypes\n",
    "city_df.dtypes\n"
   ]
  },
  {
   "cell_type": "code",
   "execution_count": 141,
   "metadata": {},
   "outputs": [],
   "source": [
    "#convert latitude, temp, humidity, wind speed, cloudiness to floating points\n",
    "#city_df[\"Lat\"] = pd.to_numeric(city_df[\"Lat\"], errors='coerce')\n",
    "#city_df[\"Temp\"] = pd.to_numeric(city_df[\"Temp\"], errors='coerce')\n",
    "#city_df[\"Humidity\"] = pd.to_numeric(city_df[\"Humidity\"], errors='coerce')\n",
    "#city_df[\"Wind_Speed\"] = pd.to_numeric(city_df[\"Wind_Speed\"], errors='coerce')\n",
    "#city_df[\"Cloudiness\"] = pd.to_numeric(city_df[\"Cloudiness\"], errors='coerce')\n",
    "#city_df.dtypes"
   ]
  },
  {
   "cell_type": "code",
   "execution_count": 142,
   "metadata": {},
   "outputs": [
    {
     "data": {
      "text/html": [
       "<div>\n",
       "<style scoped>\n",
       "    .dataframe tbody tr th:only-of-type {\n",
       "        vertical-align: middle;\n",
       "    }\n",
       "\n",
       "    .dataframe tbody tr th {\n",
       "        vertical-align: top;\n",
       "    }\n",
       "\n",
       "    .dataframe thead th {\n",
       "        text-align: right;\n",
       "    }\n",
       "</style>\n",
       "<table border=\"1\" class=\"dataframe\">\n",
       "  <thead>\n",
       "    <tr style=\"text-align: right;\">\n",
       "      <th></th>\n",
       "      <th>City</th>\n",
       "      <th>Lat</th>\n",
       "      <th>Temp</th>\n",
       "      <th>Humidity</th>\n",
       "      <th>Wind_Speed</th>\n",
       "      <th>Cloudiness</th>\n",
       "    </tr>\n",
       "  </thead>\n",
       "  <tbody>\n",
       "    <tr>\n",
       "      <td>0</td>\n",
       "      <td>Bambous Virieux</td>\n",
       "      <td>-20.34</td>\n",
       "      <td>80.35</td>\n",
       "      <td>94.0</td>\n",
       "      <td>10.29</td>\n",
       "      <td>75.0</td>\n",
       "    </tr>\n",
       "    <tr>\n",
       "      <td>1</td>\n",
       "      <td>Sarmizegetusa</td>\n",
       "      <td>45.52</td>\n",
       "      <td>43.11</td>\n",
       "      <td>80.0</td>\n",
       "      <td>7.99</td>\n",
       "      <td>100.0</td>\n",
       "    </tr>\n",
       "    <tr>\n",
       "      <td>2</td>\n",
       "      <td>Portland</td>\n",
       "      <td>45.52</td>\n",
       "      <td>43.83</td>\n",
       "      <td>75.0</td>\n",
       "      <td>14.99</td>\n",
       "      <td>90.0</td>\n",
       "    </tr>\n",
       "    <tr>\n",
       "      <td>3</td>\n",
       "      <td>Bethel</td>\n",
       "      <td>41.37</td>\n",
       "      <td>53.98</td>\n",
       "      <td>37.0</td>\n",
       "      <td>14.99</td>\n",
       "      <td>1.0</td>\n",
       "    </tr>\n",
       "    <tr>\n",
       "      <td>4</td>\n",
       "      <td>Sao Filipe</td>\n",
       "      <td>14.90</td>\n",
       "      <td>76.93</td>\n",
       "      <td>47.0</td>\n",
       "      <td>17.58</td>\n",
       "      <td>0.0</td>\n",
       "    </tr>\n",
       "    <tr>\n",
       "      <td>5</td>\n",
       "      <td>Bredasdorp</td>\n",
       "      <td>-34.53</td>\n",
       "      <td>67.35</td>\n",
       "      <td>82.0</td>\n",
       "      <td>3.36</td>\n",
       "      <td>40.0</td>\n",
       "    </tr>\n",
       "    <tr>\n",
       "      <td>7</td>\n",
       "      <td>Ribeira Grande</td>\n",
       "      <td>38.52</td>\n",
       "      <td>62.60</td>\n",
       "      <td>93.0</td>\n",
       "      <td>18.34</td>\n",
       "      <td>20.0</td>\n",
       "    </tr>\n",
       "    <tr>\n",
       "      <td>8</td>\n",
       "      <td>Hofn</td>\n",
       "      <td>64.25</td>\n",
       "      <td>35.60</td>\n",
       "      <td>59.0</td>\n",
       "      <td>23.04</td>\n",
       "      <td>75.0</td>\n",
       "    </tr>\n",
       "    <tr>\n",
       "      <td>9</td>\n",
       "      <td>Geraldton</td>\n",
       "      <td>-28.77</td>\n",
       "      <td>77.00</td>\n",
       "      <td>47.0</td>\n",
       "      <td>19.46</td>\n",
       "      <td>0.0</td>\n",
       "    </tr>\n",
       "    <tr>\n",
       "      <td>10</td>\n",
       "      <td>Ossora</td>\n",
       "      <td>59.24</td>\n",
       "      <td>-0.44</td>\n",
       "      <td>69.0</td>\n",
       "      <td>2.06</td>\n",
       "      <td>0.0</td>\n",
       "    </tr>\n",
       "    <tr>\n",
       "      <td>11</td>\n",
       "      <td>Port Alfred</td>\n",
       "      <td>-33.59</td>\n",
       "      <td>70.00</td>\n",
       "      <td>94.0</td>\n",
       "      <td>6.46</td>\n",
       "      <td>7.0</td>\n",
       "    </tr>\n",
       "    <tr>\n",
       "      <td>12</td>\n",
       "      <td>Puerto Ayora</td>\n",
       "      <td>-0.74</td>\n",
       "      <td>84.00</td>\n",
       "      <td>62.0</td>\n",
       "      <td>11.41</td>\n",
       "      <td>20.0</td>\n",
       "    </tr>\n",
       "    <tr>\n",
       "      <td>13</td>\n",
       "      <td>Tam Ky</td>\n",
       "      <td>15.57</td>\n",
       "      <td>77.00</td>\n",
       "      <td>83.0</td>\n",
       "      <td>6.93</td>\n",
       "      <td>40.0</td>\n",
       "    </tr>\n",
       "    <tr>\n",
       "      <td>14</td>\n",
       "      <td>New Norfolk</td>\n",
       "      <td>-42.78</td>\n",
       "      <td>51.60</td>\n",
       "      <td>62.0</td>\n",
       "      <td>8.05</td>\n",
       "      <td>75.0</td>\n",
       "    </tr>\n",
       "    <tr>\n",
       "      <td>15</td>\n",
       "      <td>Bam</td>\n",
       "      <td>29.11</td>\n",
       "      <td>66.63</td>\n",
       "      <td>25.0</td>\n",
       "      <td>8.52</td>\n",
       "      <td>0.0</td>\n",
       "    </tr>\n",
       "    <tr>\n",
       "      <td>16</td>\n",
       "      <td>Ushuaia</td>\n",
       "      <td>-54.80</td>\n",
       "      <td>57.20</td>\n",
       "      <td>50.0</td>\n",
       "      <td>17.22</td>\n",
       "      <td>75.0</td>\n",
       "    </tr>\n",
       "    <tr>\n",
       "      <td>17</td>\n",
       "      <td>Blenheim</td>\n",
       "      <td>-41.52</td>\n",
       "      <td>69.22</td>\n",
       "      <td>76.0</td>\n",
       "      <td>10.94</td>\n",
       "      <td>74.0</td>\n",
       "    </tr>\n",
       "    <tr>\n",
       "      <td>18</td>\n",
       "      <td>Luderitz</td>\n",
       "      <td>-26.65</td>\n",
       "      <td>69.80</td>\n",
       "      <td>83.0</td>\n",
       "      <td>9.17</td>\n",
       "      <td>15.0</td>\n",
       "    </tr>\n",
       "    <tr>\n",
       "      <td>19</td>\n",
       "      <td>Albany</td>\n",
       "      <td>42.60</td>\n",
       "      <td>55.00</td>\n",
       "      <td>30.0</td>\n",
       "      <td>16.11</td>\n",
       "      <td>20.0</td>\n",
       "    </tr>\n",
       "    <tr>\n",
       "      <td>20</td>\n",
       "      <td>Chokurdakh</td>\n",
       "      <td>70.63</td>\n",
       "      <td>-2.56</td>\n",
       "      <td>81.0</td>\n",
       "      <td>15.90</td>\n",
       "      <td>58.0</td>\n",
       "    </tr>\n",
       "    <tr>\n",
       "      <td>21</td>\n",
       "      <td>Olafsvik</td>\n",
       "      <td>64.89</td>\n",
       "      <td>33.91</td>\n",
       "      <td>67.0</td>\n",
       "      <td>21.97</td>\n",
       "      <td>100.0</td>\n",
       "    </tr>\n",
       "    <tr>\n",
       "      <td>22</td>\n",
       "      <td>Coihaique</td>\n",
       "      <td>-45.58</td>\n",
       "      <td>72.45</td>\n",
       "      <td>33.0</td>\n",
       "      <td>10.29</td>\n",
       "      <td>34.0</td>\n",
       "    </tr>\n",
       "    <tr>\n",
       "      <td>23</td>\n",
       "      <td>Hermanus</td>\n",
       "      <td>-34.42</td>\n",
       "      <td>70.36</td>\n",
       "      <td>85.0</td>\n",
       "      <td>5.99</td>\n",
       "      <td>0.0</td>\n",
       "    </tr>\n",
       "    <tr>\n",
       "      <td>24</td>\n",
       "      <td>Lesnyye Polyany</td>\n",
       "      <td>55.97</td>\n",
       "      <td>37.90</td>\n",
       "      <td>86.0</td>\n",
       "      <td>6.71</td>\n",
       "      <td>75.0</td>\n",
       "    </tr>\n",
       "    <tr>\n",
       "      <td>25</td>\n",
       "      <td>Bilma</td>\n",
       "      <td>18.69</td>\n",
       "      <td>77.23</td>\n",
       "      <td>12.0</td>\n",
       "      <td>9.08</td>\n",
       "      <td>34.0</td>\n",
       "    </tr>\n",
       "    <tr>\n",
       "      <td>26</td>\n",
       "      <td>Richards Bay</td>\n",
       "      <td>-28.78</td>\n",
       "      <td>74.98</td>\n",
       "      <td>76.0</td>\n",
       "      <td>19.37</td>\n",
       "      <td>100.0</td>\n",
       "    </tr>\n",
       "    <tr>\n",
       "      <td>27</td>\n",
       "      <td>Hobart</td>\n",
       "      <td>-42.88</td>\n",
       "      <td>51.75</td>\n",
       "      <td>62.0</td>\n",
       "      <td>8.05</td>\n",
       "      <td>75.0</td>\n",
       "    </tr>\n",
       "    <tr>\n",
       "      <td>29</td>\n",
       "      <td>Kataysk</td>\n",
       "      <td>56.29</td>\n",
       "      <td>31.10</td>\n",
       "      <td>86.0</td>\n",
       "      <td>10.45</td>\n",
       "      <td>91.0</td>\n",
       "    </tr>\n",
       "    <tr>\n",
       "      <td>31</td>\n",
       "      <td>Port Elizabeth</td>\n",
       "      <td>-33.92</td>\n",
       "      <td>68.00</td>\n",
       "      <td>94.0</td>\n",
       "      <td>3.36</td>\n",
       "      <td>75.0</td>\n",
       "    </tr>\n",
       "    <tr>\n",
       "      <td>32</td>\n",
       "      <td>Hasaki</td>\n",
       "      <td>35.73</td>\n",
       "      <td>36.32</td>\n",
       "      <td>100.0</td>\n",
       "      <td>1.12</td>\n",
       "      <td>75.0</td>\n",
       "    </tr>\n",
       "  </tbody>\n",
       "</table>\n",
       "</div>"
      ],
      "text/plain": [
       "               City    Lat   Temp  Humidity  Wind_Speed  Cloudiness\n",
       "0   Bambous Virieux -20.34  80.35      94.0       10.29        75.0\n",
       "1     Sarmizegetusa  45.52  43.11      80.0        7.99       100.0\n",
       "2          Portland  45.52  43.83      75.0       14.99        90.0\n",
       "3            Bethel  41.37  53.98      37.0       14.99         1.0\n",
       "4        Sao Filipe  14.90  76.93      47.0       17.58         0.0\n",
       "5        Bredasdorp -34.53  67.35      82.0        3.36        40.0\n",
       "7    Ribeira Grande  38.52  62.60      93.0       18.34        20.0\n",
       "8              Hofn  64.25  35.60      59.0       23.04        75.0\n",
       "9         Geraldton -28.77  77.00      47.0       19.46         0.0\n",
       "10           Ossora  59.24  -0.44      69.0        2.06         0.0\n",
       "11      Port Alfred -33.59  70.00      94.0        6.46         7.0\n",
       "12     Puerto Ayora  -0.74  84.00      62.0       11.41        20.0\n",
       "13           Tam Ky  15.57  77.00      83.0        6.93        40.0\n",
       "14      New Norfolk -42.78  51.60      62.0        8.05        75.0\n",
       "15              Bam  29.11  66.63      25.0        8.52         0.0\n",
       "16          Ushuaia -54.80  57.20      50.0       17.22        75.0\n",
       "17         Blenheim -41.52  69.22      76.0       10.94        74.0\n",
       "18         Luderitz -26.65  69.80      83.0        9.17        15.0\n",
       "19           Albany  42.60  55.00      30.0       16.11        20.0\n",
       "20       Chokurdakh  70.63  -2.56      81.0       15.90        58.0\n",
       "21         Olafsvik  64.89  33.91      67.0       21.97       100.0\n",
       "22        Coihaique -45.58  72.45      33.0       10.29        34.0\n",
       "23         Hermanus -34.42  70.36      85.0        5.99         0.0\n",
       "24  Lesnyye Polyany  55.97  37.90      86.0        6.71        75.0\n",
       "25            Bilma  18.69  77.23      12.0        9.08        34.0\n",
       "26     Richards Bay -28.78  74.98      76.0       19.37       100.0\n",
       "27           Hobart -42.88  51.75      62.0        8.05        75.0\n",
       "29          Kataysk  56.29  31.10      86.0       10.45        91.0\n",
       "31   Port Elizabeth -33.92  68.00      94.0        3.36        75.0\n",
       "32           Hasaki  35.73  36.32     100.0        1.12        75.0"
      ]
     },
     "execution_count": 142,
     "metadata": {},
     "output_type": "execute_result"
    }
   ],
   "source": [
    "#drop \"na\" values\n",
    "city_df = city_df.dropna(how='any', axis=0)\n",
    "#verify nan dropped\n",
    "city_df.head(30)"
   ]
  },
  {
   "cell_type": "code",
   "execution_count": 143,
   "metadata": {},
   "outputs": [],
   "source": [
    "#export dataframe to csv with option to drop the index\n",
    "city_df.to_csv(output_data_file, index=False)"
   ]
  },
  {
   "cell_type": "markdown",
   "metadata": {},
   "source": [
    "### Plotting the Data\n",
    "* Use proper labeling of the plots using plot titles (including date of analysis) and axes labels.\n",
    "* Save the plotted figures as .pngs."
   ]
  },
  {
   "cell_type": "markdown",
   "metadata": {},
   "source": [
    "#### Latitude vs. Temperature Plot"
   ]
  },
  {
   "cell_type": "code",
   "execution_count": 144,
   "metadata": {
    "scrolled": true
   },
   "outputs": [
    {
     "data": {
      "image/png": "[encoded data removed]",
      "text/plain": [
       "<Figure size 432x288 with 1 Axes>"
      ]
     },
     "metadata": {
      "needs_background": "light"
     },
     "output_type": "display_data"
    }
   ],
   "source": [
    "#scatter plot for latitude vs temperature\n",
    "plt.scatter(city_df[\"Lat\"], city_df[\"Temp\"])\n",
    "plt.xlabel('Latitude')\n",
    "plt.ylabel('Temperature (Deg F)')\n",
    "plt.show()"
   ]
  },
  {
   "cell_type": "markdown",
   "metadata": {},
   "source": [
    "#### Latitude vs. Humidity Plot"
   ]
  },
  {
   "cell_type": "code",
   "execution_count": 145,
   "metadata": {},
   "outputs": [
    {
     "data": {
      "image/png": "[encoded data removed]",
      "text/plain": [
       "<Figure size 432x288 with 1 Axes>"
      ]
     },
     "metadata": {
      "needs_background": "light"
     },
     "output_type": "display_data"
    }
   ],
   "source": [
    "#scatter plot for latitude vs temperature\n",
    "plt.scatter(city_df[\"Lat\"], city_df[\"Humidity\"])\n",
    "plt.xlabel('Latitude')\n",
    "plt.ylabel('Humidity (%)')\n",
    "plt.show()"
   ]
  },
  {
   "cell_type": "markdown",
   "metadata": {},
   "source": [
    "#### Latitude vs. Cloudiness Plot"
   ]
  },
  {
   "cell_type": "code",
   "execution_count": 146,
   "metadata": {},
   "outputs": [
    {
     "data": {
      "image/png": "[encoded data removed]",
      "text/plain": [
       "<Figure size 432x288 with 1 Axes>"
      ]
     },
     "metadata": {
      "needs_background": "light"
     },
     "output_type": "display_data"
    }
   ],
   "source": [
    "#scatter plot for latitude vs temperature\n",
    "plt.scatter(city_df[\"Lat\"], city_df[\"Cloudiness\"])\n",
    "plt.xlabel('Latitude')\n",
    "plt.ylabel('Cloudiness (%)')\n",
    "plt.show()"
   ]
  },
  {
   "cell_type": "markdown",
   "metadata": {},
   "source": [
    "#### Latitude vs. Wind Speed Plot"
   ]
  },
  {
   "cell_type": "code",
   "execution_count": 147,
   "metadata": {},
   "outputs": [
    {
     "data": {
      "image/png": "[encoded data removed]",
      "text/plain": [
       "<Figure size 432x288 with 1 Axes>"
      ]
     },
     "metadata": {
      "needs_background": "light"
     },
     "output_type": "display_data"
    }
   ],
   "source": [
    "#scatter plot for latitude vs temperature\n",
    "plt.scatter(city_df[\"Lat\"], city_df[\"Wind_Speed\"])\n",
    "plt.xlabel('Latitude')\n",
    "plt.ylabel('Wind Speed (MPH)')\n",
    "plt.show()"
   ]
  },
  {
   "cell_type": "markdown",
   "metadata": {},
   "source": [
    "## Linear Regression"
   ]
  },
  {
   "cell_type": "code",
   "execution_count": 148,
   "metadata": {},
   "outputs": [],
   "source": [
    "# OPTIONAL: Create a function to create Linear Regression plots\n",
    "(slope, intercept, rvalue, pvalue, stderr) = linregress(x_values, y_values)\n",
    "regress_values = x_values * slope + intercept\n",
    "line_eq = \"y = \" + str(round(slope,2)) + \"x + \" + str(round(intercept,2))"
   ]
  },
  {
   "cell_type": "code",
   "execution_count": 149,
   "metadata": {},
   "outputs": [
    {
     "data": {
      "text/html": [
       "<div>\n",
       "<style scoped>\n",
       "    .dataframe tbody tr th:only-of-type {\n",
       "        vertical-align: middle;\n",
       "    }\n",
       "\n",
       "    .dataframe tbody tr th {\n",
       "        vertical-align: top;\n",
       "    }\n",
       "\n",
       "    .dataframe thead th {\n",
       "        text-align: right;\n",
       "    }\n",
       "</style>\n",
       "<table border=\"1\" class=\"dataframe\">\n",
       "  <thead>\n",
       "    <tr style=\"text-align: right;\">\n",
       "      <th></th>\n",
       "      <th>City</th>\n",
       "      <th>Lat</th>\n",
       "      <th>Temp</th>\n",
       "      <th>Humidity</th>\n",
       "      <th>Wind_Speed</th>\n",
       "      <th>Cloudiness</th>\n",
       "    </tr>\n",
       "  </thead>\n",
       "  <tbody>\n",
       "    <tr>\n",
       "      <td>1</td>\n",
       "      <td>Sarmizegetusa</td>\n",
       "      <td>45.52</td>\n",
       "      <td>43.11</td>\n",
       "      <td>80.0</td>\n",
       "      <td>7.99</td>\n",
       "      <td>100.0</td>\n",
       "    </tr>\n",
       "    <tr>\n",
       "      <td>2</td>\n",
       "      <td>Portland</td>\n",
       "      <td>45.52</td>\n",
       "      <td>43.83</td>\n",
       "      <td>75.0</td>\n",
       "      <td>14.99</td>\n",
       "      <td>90.0</td>\n",
       "    </tr>\n",
       "    <tr>\n",
       "      <td>3</td>\n",
       "      <td>Bethel</td>\n",
       "      <td>41.37</td>\n",
       "      <td>53.98</td>\n",
       "      <td>37.0</td>\n",
       "      <td>14.99</td>\n",
       "      <td>1.0</td>\n",
       "    </tr>\n",
       "    <tr>\n",
       "      <td>4</td>\n",
       "      <td>Sao Filipe</td>\n",
       "      <td>14.90</td>\n",
       "      <td>76.93</td>\n",
       "      <td>47.0</td>\n",
       "      <td>17.58</td>\n",
       "      <td>0.0</td>\n",
       "    </tr>\n",
       "    <tr>\n",
       "      <td>7</td>\n",
       "      <td>Ribeira Grande</td>\n",
       "      <td>38.52</td>\n",
       "      <td>62.60</td>\n",
       "      <td>93.0</td>\n",
       "      <td>18.34</td>\n",
       "      <td>20.0</td>\n",
       "    </tr>\n",
       "  </tbody>\n",
       "</table>\n",
       "</div>"
      ],
      "text/plain": [
       "             City    Lat   Temp  Humidity  Wind_Speed  Cloudiness\n",
       "1   Sarmizegetusa  45.52  43.11      80.0        7.99       100.0\n",
       "2        Portland  45.52  43.83      75.0       14.99        90.0\n",
       "3          Bethel  41.37  53.98      37.0       14.99         1.0\n",
       "4      Sao Filipe  14.90  76.93      47.0       17.58         0.0\n",
       "7  Ribeira Grande  38.52  62.60      93.0       18.34        20.0"
      ]
     },
     "execution_count": 149,
     "metadata": {},
     "output_type": "execute_result"
    }
   ],
   "source": [
    "# Create Northern and Southern Hemisphere DataFrames\n",
    "north_df = city_df[city_df[\"Lat\"]>0]\n",
    "north_df.head()"
   ]
  },
  {
   "cell_type": "code",
   "execution_count": 150,
   "metadata": {},
   "outputs": [
    {
     "data": {
      "text/html": [
       "<div>\n",
       "<style scoped>\n",
       "    .dataframe tbody tr th:only-of-type {\n",
       "        vertical-align: middle;\n",
       "    }\n",
       "\n",
       "    .dataframe tbody tr th {\n",
       "        vertical-align: top;\n",
       "    }\n",
       "\n",
       "    .dataframe thead th {\n",
       "        text-align: right;\n",
       "    }\n",
       "</style>\n",
       "<table border=\"1\" class=\"dataframe\">\n",
       "  <thead>\n",
       "    <tr style=\"text-align: right;\">\n",
       "      <th></th>\n",
       "      <th>City</th>\n",
       "      <th>Lat</th>\n",
       "      <th>Temp</th>\n",
       "      <th>Humidity</th>\n",
       "      <th>Wind_Speed</th>\n",
       "      <th>Cloudiness</th>\n",
       "    </tr>\n",
       "  </thead>\n",
       "  <tbody>\n",
       "    <tr>\n",
       "      <td>0</td>\n",
       "      <td>Bambous Virieux</td>\n",
       "      <td>-20.34</td>\n",
       "      <td>80.35</td>\n",
       "      <td>94.0</td>\n",
       "      <td>10.29</td>\n",
       "      <td>75.0</td>\n",
       "    </tr>\n",
       "    <tr>\n",
       "      <td>5</td>\n",
       "      <td>Bredasdorp</td>\n",
       "      <td>-34.53</td>\n",
       "      <td>67.35</td>\n",
       "      <td>82.0</td>\n",
       "      <td>3.36</td>\n",
       "      <td>40.0</td>\n",
       "    </tr>\n",
       "    <tr>\n",
       "      <td>9</td>\n",
       "      <td>Geraldton</td>\n",
       "      <td>-28.77</td>\n",
       "      <td>77.00</td>\n",
       "      <td>47.0</td>\n",
       "      <td>19.46</td>\n",
       "      <td>0.0</td>\n",
       "    </tr>\n",
       "    <tr>\n",
       "      <td>11</td>\n",
       "      <td>Port Alfred</td>\n",
       "      <td>-33.59</td>\n",
       "      <td>70.00</td>\n",
       "      <td>94.0</td>\n",
       "      <td>6.46</td>\n",
       "      <td>7.0</td>\n",
       "    </tr>\n",
       "    <tr>\n",
       "      <td>12</td>\n",
       "      <td>Puerto Ayora</td>\n",
       "      <td>-0.74</td>\n",
       "      <td>84.00</td>\n",
       "      <td>62.0</td>\n",
       "      <td>11.41</td>\n",
       "      <td>20.0</td>\n",
       "    </tr>\n",
       "  </tbody>\n",
       "</table>\n",
       "</div>"
      ],
      "text/plain": [
       "               City    Lat   Temp  Humidity  Wind_Speed  Cloudiness\n",
       "0   Bambous Virieux -20.34  80.35      94.0       10.29        75.0\n",
       "5        Bredasdorp -34.53  67.35      82.0        3.36        40.0\n",
       "9         Geraldton -28.77  77.00      47.0       19.46         0.0\n",
       "11      Port Alfred -33.59  70.00      94.0        6.46         7.0\n",
       "12     Puerto Ayora  -0.74  84.00      62.0       11.41        20.0"
      ]
     },
     "execution_count": 150,
     "metadata": {},
     "output_type": "execute_result"
    }
   ],
   "source": [
    "south_df = city_df[city_df[\"Lat\"]<0]\n",
    "south_df.head()"
   ]
  },
  {
   "cell_type": "markdown",
   "metadata": {},
   "source": [
    "####  Northern Hemisphere - Max Temp vs. Latitude Linear Regression"
   ]
  },
  {
   "cell_type": "code",
   "execution_count": 151,
   "metadata": {},
   "outputs": [
    {
     "data": {
      "image/png": "[encoded data removed]",
      "text/plain": [
       "<Figure size 432x288 with 1 Axes>"
      ]
     },
     "metadata": {
      "needs_background": "light"
     },
     "output_type": "display_data"
    }
   ],
   "source": [
    "x_values = north_df[\"Temp\"]\n",
    "y_values = north_df[\"Lat\"]\n",
    "(slope, intercept, rvalue, pvalue, stderr) = linregress(x_values, y_values)\n",
    "regress_values = x_values * slope + intercept\n",
    "line_eq = \"y = \" + str(round(slope,2)) + \"x + \" + str(round(intercept,2))\n",
    "plt.scatter(x_values,y_values)\n",
    "plt.plot(x_values,regress_values,\"r-\")\n",
    "plt.annotate(line_eq,(6,10),fontsize=15,color=\"red\")\n",
    "plt.xlabel('Temperature (Deg F)')\n",
    "plt.ylabel('Latitude')\n",
    "plt.show()"
   ]
  },
  {
   "cell_type": "markdown",
   "metadata": {},
   "source": [
    "####  Southern Hemisphere - Max Temp vs. Latitude Linear Regression"
   ]
  },
  {
   "cell_type": "code",
   "execution_count": 152,
   "metadata": {},
   "outputs": [
    {
     "data": {
      "image/png": "[encoded data removed]",
      "text/plain": [
       "<Figure size 432x288 with 1 Axes>"
      ]
     },
     "metadata": {
      "needs_background": "light"
     },
     "output_type": "display_data"
    }
   ],
   "source": [
    "x_values = south_df[\"Temp\"]\n",
    "y_values = south_df[\"Lat\"]\n",
    "(slope, intercept, rvalue, pvalue, stderr) = linregress(x_values, y_values)\n",
    "regress_values = x_values * slope + intercept\n",
    "line_eq = \"y = \" + str(round(slope,2)) + \"x + \" + str(round(intercept,2))\n",
    "plt.scatter(x_values,y_values)\n",
    "plt.plot(x_values,regress_values,\"r-\")\n",
    "plt.annotate(line_eq,(6,10),fontsize=15,color=\"red\")\n",
    "plt.xlabel('Temperature (Deg F)')\n",
    "plt.ylabel('Latitude')\n",
    "plt.show()"
   ]
  },
  {
   "cell_type": "markdown",
   "metadata": {},
   "source": [
    "####  Northern Hemisphere - Humidity (%) vs. Latitude Linear Regression"
   ]
  },
  {
   "cell_type": "code",
   "execution_count": 153,
   "metadata": {},
   "outputs": [
    {
     "data": {
      "image/png": "[encoded data removed]",
      "text/plain": [
       "<Figure size 432x288 with 1 Axes>"
      ]
     },
     "metadata": {
      "needs_background": "light"
     },
     "output_type": "display_data"
    }
   ],
   "source": [
    "x_values = north_df[\"Humidity\"]\n",
    "y_values = north_df[\"Lat\"]\n",
    "(slope, intercept, rvalue, pvalue, stderr) = linregress(x_values, y_values)\n",
    "regress_values = x_values * slope + intercept\n",
    "line_eq = \"y = \" + str(round(slope,2)) + \"x + \" + str(round(intercept,2))\n",
    "plt.scatter(x_values,y_values)\n",
    "plt.plot(x_values,regress_values,\"r-\")\n",
    "plt.annotate(line_eq,(6,10),fontsize=15,color=\"red\")\n",
    "plt.xlabel('Humidity %')\n",
    "plt.ylabel('Latitude')\n",
    "plt.show()"
   ]
  },
  {
   "cell_type": "markdown",
   "metadata": {},
   "source": [
    "####  Southern Hemisphere - Humidity (%) vs. Latitude Linear Regression"
   ]
  },
  {
   "cell_type": "code",
   "execution_count": 154,
   "metadata": {},
   "outputs": [
    {
     "data": {
      "image/png": "[encoded data removed]",
      "text/plain": [
       "<Figure size 432x288 with 1 Axes>"
      ]
     },
     "metadata": {
      "needs_background": "light"
     },
     "output_type": "display_data"
    }
   ],
   "source": [
    "x_values = south_df[\"Humidity\"]\n",
    "y_values = south_df[\"Lat\"]\n",
    "(slope, intercept, rvalue, pvalue, stderr) = linregress(x_values, y_values)\n",
    "regress_values = x_values * slope + intercept\n",
    "line_eq = \"y = \" + str(round(slope,2)) + \"x + \" + str(round(intercept,2))\n",
    "plt.scatter(x_values,y_values)\n",
    "plt.plot(x_values,regress_values,\"r-\")\n",
    "plt.annotate(line_eq,(6,10),fontsize=15,color=\"red\")\n",
    "plt.xlabel('Humidity (%)')\n",
    "plt.ylabel('Latitude')\n",
    "plt.show()"
   ]
  },
  {
   "cell_type": "markdown",
   "metadata": {},
   "source": [
    "####  Northern Hemisphere - Cloudiness (%) vs. Latitude Linear Regression"
   ]
  },
  {
   "cell_type": "code",
   "execution_count": 155,
   "metadata": {},
   "outputs": [
    {
     "data": {
      "image/png": "[encoded data removed]",
      "text/plain": [
       "<Figure size 432x288 with 1 Axes>"
      ]
     },
     "metadata": {
      "needs_background": "light"
     },
     "output_type": "display_data"
    }
   ],
   "source": [
    "x_values = north_df[\"Cloudiness\"]\n",
    "y_values = north_df[\"Lat\"]\n",
    "(slope, intercept, rvalue, pvalue, stderr) = linregress(x_values, y_values)\n",
    "regress_values = x_values * slope + intercept\n",
    "line_eq = \"y = \" + str(round(slope,2)) + \"x + \" + str(round(intercept,2))\n",
    "plt.scatter(x_values,y_values)\n",
    "plt.plot(x_values,regress_values,\"r-\")\n",
    "plt.annotate(line_eq,(6,10),fontsize=15,color=\"red\")\n",
    "plt.xlabel('Cloudiness (%)')\n",
    "plt.ylabel('Latitude')\n",
    "plt.show()"
   ]
  },
  {
   "cell_type": "markdown",
   "metadata": {},
   "source": [
    "####  Southern Hemisphere - Cloudiness (%) vs. Latitude Linear Regression"
   ]
  },
  {
   "cell_type": "code",
   "execution_count": 156,
   "metadata": {},
   "outputs": [
    {
     "data": {
      "image/png": "[encoded data removed]",
      "text/plain": [
       "<Figure size 432x288 with 1 Axes>"
      ]
     },
     "metadata": {
      "needs_background": "light"
     },
     "output_type": "display_data"
    }
   ],
   "source": [
    "x_values = south_df[\"Cloudiness\"]\n",
    "y_values = south_df[\"Lat\"]\n",
    "(slope, intercept, rvalue, pvalue, stderr) = linregress(x_values, y_values)\n",
    "regress_values = x_values * slope + intercept\n",
    "line_eq = \"y = \" + str(round(slope,2)) + \"x + \" + str(round(intercept,2))\n",
    "plt.scatter(x_values,y_values)\n",
    "plt.plot(x_values,regress_values,\"r-\")\n",
    "plt.annotate(line_eq,(6,10),fontsize=15,color=\"red\")\n",
    "plt.xlabel('Cloudiness (%)')\n",
    "plt.ylabel('Latitude')\n",
    "plt.show()"
   ]
  },
  {
   "cell_type": "markdown",
   "metadata": {},
   "source": [
    "####  Northern Hemisphere - Wind Speed (mph) vs. Latitude Linear Regression"
   ]
  },
  {
   "cell_type": "code",
   "execution_count": 157,
   "metadata": {},
   "outputs": [
    {
     "data": {
      "image/png": "[encoded data removed]",
      "text/plain": [
       "<Figure size 432x288 with 1 Axes>"
      ]
     },
     "metadata": {
      "needs_background": "light"
     },
     "output_type": "display_data"
    }
   ],
   "source": [
    "x_values = north_df[\"Wind_Speed\"]\n",
    "y_values = north_df[\"Lat\"]\n",
    "(slope, intercept, rvalue, pvalue, stderr) = linregress(x_values, y_values)\n",
    "regress_values = x_values * slope + intercept\n",
    "line_eq = \"y = \" + str(round(slope,2)) + \"x + \" + str(round(intercept,2))\n",
    "plt.scatter(x_values,y_values)\n",
    "plt.plot(x_values,regress_values,\"r-\")\n",
    "plt.annotate(line_eq,(6,10),fontsize=15,color=\"red\")\n",
    "plt.xlabel('Wind Speed (MPH)')\n",
    "plt.ylabel('Latitude')\n",
    "plt.show()"
   ]
  },
  {
   "cell_type": "markdown",
   "metadata": {},
   "source": [
    "####  Southern Hemisphere - Wind Speed (mph) vs. Latitude Linear Regression"
   ]
  },
  {
   "cell_type": "code",
   "execution_count": 159,
   "metadata": {},
   "outputs": [
    {
     "data": {
      "image/png": "[encoded data removed]",
      "text/plain": [
       "<Figure size 432x288 with 1 Axes>"
      ]
     },
     "metadata": {
      "needs_background": "light"
     },
     "output_type": "display_data"
    }
   ],
   "source": [
    "x_values = south_df[\"Wind_Speed\"]\n",
    "y_values = south_df[\"Lat\"]\n",
    "(slope, intercept, rvalue, pvalue, stderr) = linregress(x_values, y_values)\n",
    "regress_values = x_values * slope + intercept\n",
    "line_eq = \"y = \" + str(round(slope,2)) + \"x + \" + str(round(intercept,2))\n",
    "plt.scatter(x_values,y_values)\n",
    "plt.plot(x_values,regress_values,\"r-\")\n",
    "plt.annotate(line_eq,(6,10),fontsize=15,color=\"red\")\n",
    "plt.xlabel('Wind Speed (MPH)')\n",
    "plt.ylabel('Latitude')\n",
    "plt.show()"
   ]
  },
  {
   "cell_type": "code",
   "execution_count": null,
   "metadata": {},
   "outputs": [],
   "source": []
  }
 ],
 "metadata": {
  "anaconda-cloud": {},
  "kernel_info": {
   "name": "python3"
  },
  "kernelspec": {
   "display_name": "Python 3",
   "language": "python",
   "name": "python3"
  },
  "language_info": {
   "codemirror_mode": {
    "name": "ipython",
    "version": 3
   },
   "file_extension": ".py",
   "mimetype": "text/x-python",
   "name": "python",
   "nbconvert_exporter": "python",
   "pygments_lexer": "ipython3",
   "version": "3.7.4"
  },
  "latex_envs": {
   "LaTeX_envs_menu_present": true,
   "autoclose": false,
   "autocomplete": true,
   "bibliofile": "biblio.bib",
   "cite_by": "apalike",
   "current_citInitial": 1,
   "eqLabelWithNumbers": true,
   "eqNumInitial": 1,
   "hotkeys": {
    "equation": "Ctrl-E",
    "itemize": "Ctrl-I"
   },
   "labels_anchors": false,
   "latex_user_defs": false,
   "report_style_numbering": false,
   "user_envs_cfg": false
  },
  "nteract": {
   "version": "0.12.3"
  }
 },
 "nbformat": 4,
 "nbformat_minor": 2
}
